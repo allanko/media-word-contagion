{
 "cells": [
  {
   "cell_type": "code",
   "execution_count": 28,
   "metadata": {
    "collapsed": false,
    "scrolled": true
   },
   "outputs": [],
   "source": [
    "import os, ConfigParser, mediacloud, datetime"
   ]
  },
  {
   "cell_type": "code",
   "execution_count": 2,
   "metadata": {
    "collapsed": false
   },
   "outputs": [],
   "source": [
    "# load mediacloud and topic_id from config file\n",
    "config = ConfigParser.ConfigParser()\n",
    "config.read('app.config')\n",
    "\n",
    "key = config.get('mediacloud','key')\n",
    "topic_id = config.get('mediacloud', 'topic_id')"
   ]
  },
  {
   "cell_type": "code",
   "execution_count": 42,
   "metadata": {
    "collapsed": true
   },
   "outputs": [],
   "source": [
    "# instantiate mediacloud api\n",
    "mc = mediacloud.api.MediaCloud(key)\n",
    "mca = mediacloud.api.AdminMediaCloud(key)"
   ]
  },
  {
   "cell_type": "markdown",
   "metadata": {},
   "source": [
    "# 1. Background Info\n",
    "\n",
    "We're looking at the [US Presidential Election](https://topics.mediacloud.org/#/topics/1404/summary) topic in [Media Cloud](https://mediacloud.org/). That's topic ID #1404. This is a set of stories published between Apr 30, 2015 to Nov 7, 2016, queried on the names of the major presidential candidates. The topic is queried from the following media source sets:\n",
    "\n",
    "* [US Top Online News](https://sources.mediacloud.org/#/collections/9139487)\n",
    "* [US Top Digital Native News](https://sources.mediacloud.org/#/collections/9139458) \n",
    "* [US Regional Mainstream Media](https://sources.mediacloud.org/#/collections/2453107) \n",
    "\n",
    "The seed query is:\n",
    "\n",
    "> +( fiorina ( scott and walker ) ( ben and carson ) trump ( cruz and -victor ) kasich rubio (jeb and bush) clinton sanders ) AND (+publish_date:[2016-09-30T00:00:00Z TO 2016-11-08T23:59:59Z]) AND ((tags_id_media:9139487 OR tags_id_media:9139458 OR tags_id_media:2453107 OR tags_id_stories:9139487 OR tags_id_stories:9139458 OR tags_id_stories:2453107))\n",
    "\n",
    "I *think* this is the same dataset used for this CJR report, [\"Breitbart-led right-wing media ecosystem altered broader media agenda\"](https://www.cjr.org/analysis/breitbart-media-trump-harvard-study.php), but I'm not totally sure."
   ]
  },
  {
   "cell_type": "markdown",
   "metadata": {},
   "source": [
    "# 2. Network Structure\n",
    "\n",
    "Run this section to request a gefx file representing the unweighted, directed network of media outlets in this dataset. Nodes represent different media outlets, edges represents inlinks and outlinks between outlets. "
   ]
  },
  {
   "cell_type": "code",
   "execution_count": 4,
   "metadata": {
    "collapsed": false
   },
   "outputs": [],
   "source": [
    "# this api call takes a minute or two, but you should only need to do this once.\n",
    "\n",
    "network = mc.topicMediaMap(topic_id)\n",
    "\n",
    "with open('network.gefx', 'wb') as f:\n",
    "    f.write(network)"
   ]
  },
  {
   "cell_type": "code",
   "execution_count": 7,
   "metadata": {
    "collapsed": false
   },
   "outputs": [],
   "source": [
    "# if you've already generated network.gefx, run this cell to import it\n",
    "\n",
    "with open('network.gefx', 'r') as f:\n",
    "    network = f.read()"
   ]
  },
  {
   "cell_type": "code",
   "execution_count": null,
   "metadata": {
    "collapsed": false
   },
   "outputs": [],
   "source": [
    "# figure out how to parse xml files here, maybe"
   ]
  },
  {
   "cell_type": "markdown",
   "metadata": {},
   "source": [
    "# 3. Contagion Data\n",
    "\n",
    "Now we want to see how a term/framing/quote *propagates* through our network. To do that, we need to search the stories in our topic (#1404) for mentions of a given term/framing/quote. Let's start with the term \"alt-right\".\n",
    "\n"
   ]
  },
  {
   "cell_type": "code",
   "execution_count": 29,
   "metadata": {
    "collapsed": false
   },
   "outputs": [],
   "source": [
    "# this is the query we're interested in. put the term(s) you want to search for here\n",
    "term = \"hillary AND clinton\"\n",
    "\n",
    "# this makes the actual query that we send to the api\n",
    "query = '''{{~ topic:{0}}} AND \"{1}\"'''.format(topic_id, term)\n",
    "\n",
    "# filter daterange\n",
    "daterange = mc.publish_date_query( datetime.date (2015, 04, 30), datetime.date(2016,11,07) )"
   ]
  },
  {
   "cell_type": "code",
   "execution_count": 18,
   "metadata": {
    "collapsed": true
   },
   "outputs": [],
   "source": [
    "# here is a function that fetches every story from the topic that satisfies our query\n",
    "\n",
    "def fetch_all_stories(solr_query, solr_filter=''):\n",
    "    start = 0\n",
    "    offset = 500\n",
    "    all_stories = []\n",
    "    page = 0\n",
    "\n",
    "    while True:\n",
    "        stories = mc.storyList(solr_query=solr_query, solr_filter=solr_filter, \n",
    "                               last_processed_stories_id=start, rows=offset)\n",
    "        all_stories.extend(stories)\n",
    "        \n",
    "        if len(stories) < 1:\n",
    "            break\n",
    "        start = max([s['processed_stories_id'] for s in stories])\n",
    "        page = page + 1\n",
    "\n",
    "    return all_stories"
   ]
  },
  {
   "cell_type": "code",
   "execution_count": 32,
   "metadata": {
    "collapsed": false
   },
   "outputs": [
    {
     "ename": "MCException",
     "evalue": "Error - got a HTTP status code of 500 with the message \"Internal Server Error\", body: {\"error\":\"Error(s): Caught exception in MediaWords::Controller::Api::V2::Stories_Public->list \\\"transformed query is longer than max of 2000000 at lib/MediaWords/Solr/PseudoQueries.pm line 340.\\n\\tMediaWords::Solr::PseudoQueries::transform_query(\\\"( publish_date:[2015-04-30T00:00:00Z TO 2016-11-07T00:00:00Z}\\\"...) called at lib/MediaWords/Solr.pm line 264\\n\\tMediaWords::Solr::query_encoded_json(MediaWords::DB::HandlerProxy=HASH(0xcf974b8), HASH(0xc16d748), undef) called at lib/MediaWords/Solr.pm line 366\\n\\tMediaWords::Solr::query(MediaWords::DB::HandlerProxy=HASH(0xcf974b8), HASH(0xc16d748)) called at lib/MediaWords/Solr.pm line 641\\n\\tMediaWords::Solr::search_for_processed_stories_ids(MediaWords::DB::HandlerProxy=HASH(0xcf974b8), \\\"{~ topic:1404} AND \\\\\\\"hillary AND clinton\\\\\\\"\\\", ARRAY(0xc1e7af0), 0, 10, \\\"processed_stories_id\\\") called at lib/MediaWords/Controller/Api/V2/StoriesBase.pm line 382\\n\\tMediaWords::Controller::Api::V2::StoriesBase::_get_object_ids(MediaWords::Controller::Api::V2::Stories_Public=HASH(0xbacb168), MediaWords=HASH(0xcf4c098), 0, 10) called at lib/MediaWords/Controller/Api/V2/StoriesBase.pm line 398\\n\\tMediaWords::Controller::Api::V2::StoriesBase::_fetch_list(MediaWords::Controller::Api::V2::Stories_Public=HASH(0xbacb168), MediaWords=HASH(0xcf4c098), 0, \\\"stories\\\", \\\"stories_id\\\", 10) called at lib/MediaWords/Controller/Api/V2/MC_REST_SimpleObject.pm line 334\\n\\tMediaWords::Controller::Api::V2::MC_REST_SimpleObject::list_GET(MediaWords::Controller::Api::V2::Stories_Public=HASH(0xbacb168), MediaWords=HASH(0xcf4c098)) called at /home/mediacloud/mediacloud/local/lib/perl5/Catalyst/Action.pm line 352\\n\\tCatalyst::Action::execute(Moose::Meta::Class::__ANON__::SERIAL::23=HASH(0xbda6bd0), MediaWords::Controller::Api::V2::Stories_Public=HASH(0xbacb168), MediaWords=HASH(0xcf4c098)) called at lib/MediaWords/ActionRole/PublicApiKeyAuthenticated.pm line 49\\n\\tClass::MOP::Class:::around(CODE(0x5d29120), Moose::Meta::Class::__ANON__::SERIAL::23=HASH(0xbda6bd0), MediaWords::Controller::Api::V2::Stories_Public=HASH(0xbacb168), MediaWords=HASH(0xcf4c098)) called at /home/mediacloud/mediacloud/local/lib/perl5/x86_64-linux-gnu-thread-multi/Class/MOP/Method/Wrapped.pm line 164\\n\\tClass::MOP::Method::Wrapped::__ANON__(Moose::Meta::Class::__ANON__::SERIAL::23=HASH(0xbda6bd0), MediaWords::Controller::Api::V2::Stories_Public=HASH(0xbacb168), MediaWords=HASH(0xcf4c098)) called at lib/MediaWords/ActionRole/Throttled.pm line 116\\n\\tClass::MOP::Class:::around(CODE(0xbd62db8), Moose::Meta::Class::__ANON__::SERIAL::23=HASH(0xbda6bd0), MediaWords::Controller::Api::V2::Stories_Public=HASH(0xbacb168), MediaWords=HASH(0xcf4c098)) called at /home/mediacloud/mediacloud/local/lib/perl5/x86_64-linux-gnu-thread-multi/Class/MOP/Method/Wrapped.pm line 164\\n\\tClass::MOP::Method::Wrapped::__ANON__(Moose::Meta::Class::__ANON__::SERIAL::23=HASH(0xbda6bd0), MediaWords::Controller::Api::V2::Stories_Public=HASH(0xbacb168), MediaWords=HASH(0xcf4c098)) called at lib/MediaWords/ActionRole/Logged.pm line 28\\n\\tClass::MOP::Class:::around(CODE(0xbd671e8), Moose::Meta::Class::__ANON__::SERIAL::23=HASH(0xbda6bd0), MediaWords::Controller::Api::V2::Stories_Public=HASH(0xbacb168), MediaWords=HASH(0xcf4c098)) called at /home/mediacloud/mediacloud/local/lib/perl5/x86_64-linux-gnu-thread-multi/Class/MOP/Method/Wrapped.pm line 164\\n\\tMoose::Meta::Class::__ANON__::SERIAL::23::_wrapped_execute(Moose::Meta::Class::__ANON__::SERIAL::23=HASH(0xbda6bd0), MediaWords::Controller::Api::V2::Stories_Public=HASH(0xbacb168), MediaWords=HASH(0xcf4c098)) called at /home/mediacloud/mediacloud/local/lib/perl5/x86_64-linux-gnu-thread-multi/Class/MOP/Method/Wrapped.pm line 95\\n\\tMoose::Meta::Class::__ANON__::SERIAL::23::execute(Moose::Meta::Class::__ANON__::SERIAL::23=HASH(0xbda6bd0), MediaWords::Controller::Api::V2::Stories_Public=HASH(0xbacb168), MediaWords=HASH(0xcf4c098)) called at /home/mediacloud/mediacloud/local/lib/perl5/Catalyst.pm line 2027\\n\\teval {...} called at /home/mediacloud/mediacloud/local/lib/perl5/Catalyst.pm line 2027\\n\\tCatalyst::execute(MediaWords=HASH(0xcf4c098), \\\"MediaWords::Controller::Api::V2::Stories_Public\\\", Moose::Meta::Class::__ANON__::SERIAL::23=HASH(0xbda6bd0)) called at /home/mediacloud/mediacloud/local/lib/perl5/Catalyst/Plugin/Authorization/ACL.pm line 39\\n\\tCatalyst::Plugin::Authorization::ACL::execute(MediaWords=HASH(0xcf4c098), \\\"MediaWords::Controller::Api::V2::Stories_Public\\\", Moose::Meta::Class::__ANON__::SERIAL::23=HASH(0xbda6bd0)) called at /home/mediacloud/mediacloud/local/lib/perl5/Catalyst/Plugin/StackTrace.pm line 23\\n\\tCatalyst::Plugin::StackTrace::execute(MediaWords=HASH(0xcf4c098), \\\"MediaWords::Controller::Api::V2::Stories_Public\\\", Moose::Meta::Class::__ANON__::SERIAL::23=HASH(0xbda6bd0)) called at /home/mediacloud/mediacloud/local/lib/perl5/Catalyst/Action/REST.pm line 149\\n\\tCatalyst::Action::REST::_dispatch_rest_method(Moose::Meta::Class::__ANON__::SERIAL::23=HASH(0xbda6bd0), MediaWords=HASH(0xcf4c098), \\\"list_GET\\\") called at lib/Catalyst/Action/MC_REST.pm line 44\\n\\tCatalyst::Action::MC_REST::dispatch(Moose::Meta::Class::__ANON__::SERIAL::23=HASH(0xbda6bd0), MediaWords=HASH(0xcf4c098)) called at /home/mediacloud/mediacloud/local/lib/perl5/Catalyst/Controller.pm line 171\\n\\tCatalyst::Controller::_ACTION(MediaWords::Controller::Api::V2::Stories_Public=HASH(0xbacb168), MediaWords=HASH(0xcf4c098)) called at /home/mediacloud/mediacloud/local/lib/perl5/Catalyst/Action.pm line 352\\n\\tCatalyst::Action::execute(Catalyst::Action=HASH(0xbda5ce8), MediaWords::Controller::Api::V2::Stories_Public=HASH(0xbacb168), MediaWords=HASH(0xcf4c098)) called at /home/mediacloud/mediacloud/local/lib/perl5/Catalyst.pm line 2027\\n\\teval {...} called at /home/mediacloud/mediacloud/local/lib/perl5/Catalyst.pm line 2027\\n\\tCatalyst::execute(MediaWords=HASH(0xcf4c098), \\\"MediaWords::Controller::Api::V2::Stories_Public\\\", Catalyst::Action=HASH(0xbda5ce8)) called at /home/mediacloud/mediacloud/local/lib/perl5/Catalyst/Plugin/Authorization/ACL.pm line 39\\n\\tCatalyst::Plugin::Authorization::ACL::execute(MediaWords=HASH(0xcf4c098), \\\"MediaWords::Controller::Api::V2::Stories_Public\\\", Catalyst::Action=HASH(0xbda5ce8)) called at /home/mediacloud/mediacloud/local/lib/perl5/Catalyst/Plugin/StackTrace.pm line 23\\n\\tCatalyst::Plugin::StackTrace::execute(MediaWords=HASH(0xcf4c098), \\\"MediaWords::Controller::Api::V2::Stories_Public\\\", Catalyst::Action=HASH(0xbda5ce8)) called at /home/mediacloud/mediacloud/local/lib/perl5/Catalyst/Action.pm line 347\\n\\tCatalyst::Action::dispatch(Catalyst::Action=HASH(0xbda5ce8), MediaWords=HASH(0xcf4c098)) called at /home/mediacloud/mediacloud/local/lib/perl5/Catalyst/Dispatcher.pm line 262\\n\\tCatalyst::Dispatcher::_do_forward(Catalyst::Dispatcher=HASH(0x5502e50), \\\"forward\\\", MediaWords=HASH(0xcf4c098), \\\"_ACTION\\\") called at /home/mediacloud/mediacloud/local/lib/perl5/Catalyst/Dispatcher.pm line 242\\n\\tCatalyst::Dispatcher::forward(Catalyst::Dispatcher=HASH(0x5502e50), MediaWords=HASH(0xcf4c098), \\\"_ACTION\\\") called at /home/mediacloud/mediacloud/local/lib/perl5/Catalyst.pm line 457\\n\\tCatalyst::forward(MediaWords=HASH(0xcf4c098), \\\"_ACTION\\\") called at /home/mediacloud/mediacloud/local/lib/perl5/Catalyst/Controller.pm line 135\\n\\tCatalyst::Controller::_DISPATCH(MediaWords::Controller::Api::V2::Stories_Public=HASH(0xbacb168), MediaWords=HASH(0xcf4c098)) called at /home/mediacloud/mediacloud/local/lib/perl5/Catalyst/Action.pm line 352\\n\\tCatalyst::Action::execute(Catalyst::Action=HASH(0xbda63a8), MediaWords::Controller::Api::V2::Stories_Public=HASH(0xbacb168), MediaWords=HASH(0xcf4c098)) called at /home/mediacloud/mediacloud/local/lib/perl5/Catalyst.pm line 2027\\n\\teval {...} called at /home/mediacloud/mediacloud/local/lib/perl5/Catalyst.pm line 2027\\n\\tCatalyst::execute(MediaWords=HASH(0xcf4c098), \\\"MediaWords::Controller::Api::V2::Stories_Public\\\", Catalyst::Action=HASH(0xbda63a8)) called at /home/mediacloud/mediacloud/local/lib/perl5/Catalyst/Plugin/Authorization/ACL.pm line 39\\n\\tCatalyst::Plugin::Authorization::ACL::execute(MediaWords=HASH(0xcf4c098), \\\"MediaWords::Controller::Api::V2::Stories_Public\\\", Catalyst::Action=HASH(0xbda63a8)) called at /home/mediacloud/mediacloud/local/lib/perl5/Catalyst/Plugin/StackTrace.pm line 23\\n\\tCatalyst::Plugin::StackTrace::execute(MediaWords=HASH(0xcf4c098), \\\"MediaWords::Controller::Api::V2::Stories_Public\\\", Catalyst::Action=HASH(0xbda63a8)) called at /home/mediacloud/mediacloud/local/lib/perl5/Catalyst/Action.pm line 347\\n\\tCatalyst::Action::dispatch(Catalyst::Action=HASH(0xbda63a8), MediaWords=HASH(0xcf4c098)) called at /home/mediacloud/mediacloud/local/lib/perl5/Catalyst/Dispatcher.pm line 262\\n\\tCatalyst::Dispatcher::_do_forward(Catalyst::Dispatcher=HASH(0x5502e50), \\\"forward\\\", MediaWords=HASH(0xcf4c098), \\\"/api/v2/stories_public/_DISPATCH\\\") called at /home/mediacloud/mediacloud/local/lib/perl5/Catalyst/Dispatcher.pm line 242\\n\\tCatalyst::Dispatcher::forward(Catalyst::Dispatcher=HASH(0x5502e50), MediaWords=HASH(0xcf4c098), \\\"/api/v2/stories_public/_DISPATCH\\\") called at /home/mediacloud/mediacloud/local/lib/perl5/Catalyst.pm line 457\\n\\tCatalyst::forward(MediaWords=HASH(0xcf4c098), \\\"/api/v2/stories_public/_DISPATCH\\\") called at /home/mediacloud/mediacloud/local/lib/perl5/Catalyst/Dispatcher.pm line 108\\n\\tCatalyst::Dispatcher::dispatch(Catalyst::Dispatcher=HASH(0x5502e50), MediaWords=HASH(0xcf4c098)) called at /home/mediacloud/mediacloud/local/lib/perl5/Catalyst.pm line 1973\\n\\tCatalyst::dispatch(MediaWords=HASH(0xcf4c098)) called at /home/mediacloud/mediacloud/local/lib/perl5/Catalyst/Plugin/Static/Simple.pm line 86\\n\\tClass::MOP::Class:::around(CODE(0x50710c0), MediaWords=HASH(0xcf4c098)) called at /home/mediacloud/mediacloud/local/lib/perl5/x86_64-linux-gnu-thread-multi/Class/MOP/Method/Wrapped.pm line 164\\n\\tMediaWords::_wrapped_dispatch(MediaWords=HASH(0xcf4c098)) called at /home/mediacloud/mediacloud/local/lib/perl5/x86_64-linux-gnu-thread-multi/Class/MOP/Method/Wrapped.pm line 95\\n\\tMediaWords::dispatch(MediaWords=HASH(0xcf4c098)) called at /home/mediacloud/mediacloud/local/lib/perl5/Catalyst.pm line 2364\\n\\tCatalyst::try {...} () called at /home/mediacloud/mediacloud/local/lib/perl5/Try/Tiny.pm line 81\\n\\teval {...} called at /home/mediacloud/mediacloud/local/lib/perl5/Try/Tiny.pm line 72\\n\\tTry::Tiny::try(CODE(0xc165c58), Try::Tiny::Catch=REF(0xc51a440)) called at /home/mediacloud/mediacloud/local/lib/perl5/Catalyst.pm line 2373\\n\\tCatalyst::handle_request(\\\"MediaWords\\\", \\\"env\\\", HASH(0xc1e0640), \\\"response_cb\\\", CODE(0xc1a3158)) called at /home/mediacloud/mediacloud/local/lib/perl5/Catalyst/Engine.pm line 796\\n\\tCatalyst::Engine::__ANON__(CODE(0xc1a3158)) called at /home/mediacloud/mediacloud/local/lib/perl5/Plack/Middleware/HTTPExceptions.pm line 32\\n\\tPlack::Middleware::HTTPExceptions::try {...} () called at /home/mediacloud/mediacloud/local/lib/perl5/Try/Tiny.pm line 81\\n\\teval {...} called at /home/mediacloud/mediacloud/local/lib/perl5/Try/Tiny.pm line 72\\n\\tTry::Tiny::try(CODE(0xc2b0b78), Try::Tiny::Catch=REF(0xc17bfa0)) called at /home/mediacloud/mediacloud/local/lib/perl5/Plack/Middleware/HTTPExceptions.pm line 41\\n\\tPlack::Middleware::HTTPExceptions::__ANON__(CODE(0xc2c26b8)) called at /home/mediacloud/mediacloud/local/lib/perl5/Plack/Util.pm line 301\\n\\tPlack::Util::__ANON__(CODE(0xc1e9948)) called at /home/mediacloud/mediacloud/local/lib/perl5/Plack/Util.pm line 301\\n\\tPlack::Util::__ANON__(CODE(0xc162500)) called at /home/mediacloud/mediacloud/local/lib/perl5/Plack/Util.pm line 301\\n\\tPlack::Util::__ANON__(CODE(0xc16d9b8)) called at /home/mediacloud/mediacloud/local/lib/perl5/Plack/Util.pm line 301\\n\\tPlack::Util::__ANON__(CODE(0xc1e0dd8)) called at /home/mediacloud/mediacloud/local/lib/perl5/Plack/Util.pm line 301\\n\\tPlack::Util::__ANON__(CODE(0xc0c5b20)) called at /home/mediacloud/mediacloud/local/lib/perl5/Plack/Handler/FCGI.pm line 136\\n\\tPlack::Handler::FCGI::run(Plack::Handler::FCGI=HASH(0xc0795a0), CODE(0xc077308)) called at /home/mediacloud/mediacloud/local/lib/perl5/Plack/Loader.pm line 84\\n\\tPlack::Loader::run(Plack::Loader=HASH(0x2554da8), Plack::Handler::FCGI=HASH(0xc0795a0)) called at /home/mediacloud/mediacloud/local/lib/perl5/Plack/Runner.pm line 277\\n\\tPlack::Runner::run(Plack::Runner=HASH(0x2337aa8)) called at /home/mediacloud/mediacloud/local/bin/plackup line 7\\\"\"}",
     "output_type": "error",
     "traceback": [
      "\u001b[0;31m---------------------------------------------------------------------------\u001b[0m",
      "\u001b[0;31mMCException\u001b[0m                               Traceback (most recent call last)",
      "\u001b[0;32m<ipython-input-32-5003b23e3206>\u001b[0m in \u001b[0;36m<module>\u001b[0;34m()\u001b[0m\n\u001b[0;32m----> 1\u001b[0;31m \u001b[0mmc\u001b[0m\u001b[1;33m.\u001b[0m\u001b[0mstoryList\u001b[0m\u001b[1;33m(\u001b[0m\u001b[0msolr_query\u001b[0m \u001b[1;33m=\u001b[0m \u001b[0mquery\u001b[0m\u001b[1;33m,\u001b[0m \u001b[0msolr_filter\u001b[0m \u001b[1;33m=\u001b[0m \u001b[0mdaterange\u001b[0m\u001b[1;33m,\u001b[0m \u001b[0mrows\u001b[0m \u001b[1;33m=\u001b[0m \u001b[1;36m10\u001b[0m\u001b[1;33m)\u001b[0m\u001b[1;33m\u001b[0m\u001b[0m\n\u001b[0m",
      "\u001b[0;32mc:\\users\\allan\\anaconda2\\lib\\site-packages\\mediacloud\\api.pyc\u001b[0m in \u001b[0;36mstoryList\u001b[0;34m(self, solr_query, solr_filter, last_processed_stories_id, rows, wc, feeds_id, sort, show_feeds)\u001b[0m\n\u001b[1;32m    277\u001b[0m                  \u001b[1;34m'wc'\u001b[0m\u001b[1;33m:\u001b[0m \u001b[1;36m1\u001b[0m \u001b[1;32mif\u001b[0m \u001b[0mwc\u001b[0m \u001b[1;32mis\u001b[0m \u001b[0mTrue\u001b[0m \u001b[1;32melse\u001b[0m \u001b[1;36m0\u001b[0m\u001b[1;33m,\u001b[0m\u001b[1;33m\u001b[0m\u001b[0m\n\u001b[1;32m    278\u001b[0m                  \u001b[1;34m'feeds_id'\u001b[0m\u001b[1;33m:\u001b[0m \u001b[0mfeeds_id\u001b[0m\u001b[1;33m,\u001b[0m\u001b[1;33m\u001b[0m\u001b[0m\n\u001b[0;32m--> 279\u001b[0;31m                  \u001b[1;34m'show_feeds'\u001b[0m\u001b[1;33m:\u001b[0m \u001b[1;36m1\u001b[0m \u001b[1;32mif\u001b[0m \u001b[0mshow_feeds\u001b[0m \u001b[1;32mis\u001b[0m \u001b[0mTrue\u001b[0m \u001b[1;32melse\u001b[0m \u001b[1;36m0\u001b[0m\u001b[1;33m,\u001b[0m\u001b[1;33m\u001b[0m\u001b[0m\n\u001b[0m\u001b[1;32m    280\u001b[0m                 })\n\u001b[1;32m    281\u001b[0m \u001b[1;33m\u001b[0m\u001b[0m\n",
      "\u001b[0;32mc:\\users\\allan\\anaconda2\\lib\\site-packages\\mediacloud\\api.pyc\u001b[0m in \u001b[0;36m_queryForJson\u001b[0;34m(self, url, params, http_method, json_data)\u001b[0m\n\u001b[1;32m    394\u001b[0m         \u001b[0mHelper\u001b[0m \u001b[0mthat\u001b[0m \u001b[0mreturns\u001b[0m \u001b[0mqueries\u001b[0m \u001b[0mto\u001b[0m \u001b[0mthe\u001b[0m \u001b[0mAPI\u001b[0m \u001b[1;32mas\u001b[0m \u001b[0mreal\u001b[0m \u001b[0mobjects\u001b[0m\u001b[1;33m\u001b[0m\u001b[0m\n\u001b[1;32m    395\u001b[0m         '''\n\u001b[0;32m--> 396\u001b[0;31m         \u001b[0mresponse\u001b[0m \u001b[1;33m=\u001b[0m \u001b[0mself\u001b[0m\u001b[1;33m.\u001b[0m\u001b[0m_query\u001b[0m\u001b[1;33m(\u001b[0m\u001b[0murl\u001b[0m\u001b[1;33m,\u001b[0m \u001b[0mparams\u001b[0m\u001b[1;33m,\u001b[0m \u001b[0mhttp_method\u001b[0m\u001b[1;33m,\u001b[0m \u001b[0mjson_data\u001b[0m\u001b[1;33m)\u001b[0m\u001b[1;33m\u001b[0m\u001b[0m\n\u001b[0m\u001b[1;32m    397\u001b[0m         \u001b[1;31m# print response.content\u001b[0m\u001b[1;33m\u001b[0m\u001b[1;33m\u001b[0m\u001b[0m\n\u001b[1;32m    398\u001b[0m         \u001b[0mresponse_json\u001b[0m \u001b[1;33m=\u001b[0m \u001b[0mresponse\u001b[0m\u001b[1;33m.\u001b[0m\u001b[0mjson\u001b[0m\u001b[1;33m(\u001b[0m\u001b[1;33m)\u001b[0m\u001b[1;33m\u001b[0m\u001b[0m\n",
      "\u001b[0;32mc:\\users\\allan\\anaconda2\\lib\\site-packages\\mediacloud\\api.pyc\u001b[0m in \u001b[0;36m_query\u001b[0;34m(self, url, params, http_method, json_data)\u001b[0m\n\u001b[1;32m    472\u001b[0m             msg = 'Error - got a HTTP status code of %s with the message \"%s\", body: %s' % (\n\u001b[1;32m    473\u001b[0m                 str(r.status_code), str(r.reason), str(r.text))\n\u001b[0;32m--> 474\u001b[0;31m             \u001b[1;32mraise\u001b[0m \u001b[0mmediacloud\u001b[0m\u001b[1;33m.\u001b[0m\u001b[0merror\u001b[0m\u001b[1;33m.\u001b[0m\u001b[0mMCException\u001b[0m\u001b[1;33m(\u001b[0m\u001b[0mmsg\u001b[0m\u001b[1;33m,\u001b[0m \u001b[0mr\u001b[0m\u001b[1;33m.\u001b[0m\u001b[0mstatus_code\u001b[0m\u001b[1;33m)\u001b[0m\u001b[1;33m\u001b[0m\u001b[0m\n\u001b[0m\u001b[1;32m    475\u001b[0m         \u001b[1;32mreturn\u001b[0m \u001b[0mr\u001b[0m\u001b[1;33m\u001b[0m\u001b[0m\n\u001b[1;32m    476\u001b[0m \u001b[1;33m\u001b[0m\u001b[0m\n",
      "\u001b[0;31mMCException\u001b[0m: Error - got a HTTP status code of 500 with the message \"Internal Server Error\", body: {\"error\":\"Error(s): Caught exception in MediaWords::Controller::Api::V2::Stories_Public->list \\\"transformed query is longer than max of 2000000 at lib/MediaWords/Solr/PseudoQueries.pm line 340.\\n\\tMediaWords::Solr::PseudoQueries::transform_query(\\\"( publish_date:[2015-04-30T00:00:00Z TO 2016-11-07T00:00:00Z}\\\"...) called at lib/MediaWords/Solr.pm line 264\\n\\tMediaWords::Solr::query_encoded_json(MediaWords::DB::HandlerProxy=HASH(0xcf974b8), HASH(0xc16d748), undef) called at lib/MediaWords/Solr.pm line 366\\n\\tMediaWords::Solr::query(MediaWords::DB::HandlerProxy=HASH(0xcf974b8), HASH(0xc16d748)) called at lib/MediaWords/Solr.pm line 641\\n\\tMediaWords::Solr::search_for_processed_stories_ids(MediaWords::DB::HandlerProxy=HASH(0xcf974b8), \\\"{~ topic:1404} AND \\\\\\\"hillary AND clinton\\\\\\\"\\\", ARRAY(0xc1e7af0), 0, 10, \\\"processed_stories_id\\\") called at lib/MediaWords/Controller/Api/V2/StoriesBase.pm line 382\\n\\tMediaWords::Controller::Api::V2::StoriesBase::_get_object_ids(MediaWords::Controller::Api::V2::Stories_Public=HASH(0xbacb168), MediaWords=HASH(0xcf4c098), 0, 10) called at lib/MediaWords/Controller/Api/V2/StoriesBase.pm line 398\\n\\tMediaWords::Controller::Api::V2::StoriesBase::_fetch_list(MediaWords::Controller::Api::V2::Stories_Public=HASH(0xbacb168), MediaWords=HASH(0xcf4c098), 0, \\\"stories\\\", \\\"stories_id\\\", 10) called at lib/MediaWords/Controller/Api/V2/MC_REST_SimpleObject.pm line 334\\n\\tMediaWords::Controller::Api::V2::MC_REST_SimpleObject::list_GET(MediaWords::Controller::Api::V2::Stories_Public=HASH(0xbacb168), MediaWords=HASH(0xcf4c098)) called at /home/mediacloud/mediacloud/local/lib/perl5/Catalyst/Action.pm line 352\\n\\tCatalyst::Action::execute(Moose::Meta::Class::__ANON__::SERIAL::23=HASH(0xbda6bd0), MediaWords::Controller::Api::V2::Stories_Public=HASH(0xbacb168), MediaWords=HASH(0xcf4c098)) called at lib/MediaWords/ActionRole/PublicApiKeyAuthenticated.pm line 49\\n\\tClass::MOP::Class:::around(CODE(0x5d29120), Moose::Meta::Class::__ANON__::SERIAL::23=HASH(0xbda6bd0), MediaWords::Controller::Api::V2::Stories_Public=HASH(0xbacb168), MediaWords=HASH(0xcf4c098)) called at /home/mediacloud/mediacloud/local/lib/perl5/x86_64-linux-gnu-thread-multi/Class/MOP/Method/Wrapped.pm line 164\\n\\tClass::MOP::Method::Wrapped::__ANON__(Moose::Meta::Class::__ANON__::SERIAL::23=HASH(0xbda6bd0), MediaWords::Controller::Api::V2::Stories_Public=HASH(0xbacb168), MediaWords=HASH(0xcf4c098)) called at lib/MediaWords/ActionRole/Throttled.pm line 116\\n\\tClass::MOP::Class:::around(CODE(0xbd62db8), Moose::Meta::Class::__ANON__::SERIAL::23=HASH(0xbda6bd0), MediaWords::Controller::Api::V2::Stories_Public=HASH(0xbacb168), MediaWords=HASH(0xcf4c098)) called at /home/mediacloud/mediacloud/local/lib/perl5/x86_64-linux-gnu-thread-multi/Class/MOP/Method/Wrapped.pm line 164\\n\\tClass::MOP::Method::Wrapped::__ANON__(Moose::Meta::Class::__ANON__::SERIAL::23=HASH(0xbda6bd0), MediaWords::Controller::Api::V2::Stories_Public=HASH(0xbacb168), MediaWords=HASH(0xcf4c098)) called at lib/MediaWords/ActionRole/Logged.pm line 28\\n\\tClass::MOP::Class:::around(CODE(0xbd671e8), Moose::Meta::Class::__ANON__::SERIAL::23=HASH(0xbda6bd0), MediaWords::Controller::Api::V2::Stories_Public=HASH(0xbacb168), MediaWords=HASH(0xcf4c098)) called at /home/mediacloud/mediacloud/local/lib/perl5/x86_64-linux-gnu-thread-multi/Class/MOP/Method/Wrapped.pm line 164\\n\\tMoose::Meta::Class::__ANON__::SERIAL::23::_wrapped_execute(Moose::Meta::Class::__ANON__::SERIAL::23=HASH(0xbda6bd0), MediaWords::Controller::Api::V2::Stories_Public=HASH(0xbacb168), MediaWords=HASH(0xcf4c098)) called at /home/mediacloud/mediacloud/local/lib/perl5/x86_64-linux-gnu-thread-multi/Class/MOP/Method/Wrapped.pm line 95\\n\\tMoose::Meta::Class::__ANON__::SERIAL::23::execute(Moose::Meta::Class::__ANON__::SERIAL::23=HASH(0xbda6bd0), MediaWords::Controller::Api::V2::Stories_Public=HASH(0xbacb168), MediaWords=HASH(0xcf4c098)) called at /home/mediacloud/mediacloud/local/lib/perl5/Catalyst.pm line 2027\\n\\teval {...} called at /home/mediacloud/mediacloud/local/lib/perl5/Catalyst.pm line 2027\\n\\tCatalyst::execute(MediaWords=HASH(0xcf4c098), \\\"MediaWords::Controller::Api::V2::Stories_Public\\\", Moose::Meta::Class::__ANON__::SERIAL::23=HASH(0xbda6bd0)) called at /home/mediacloud/mediacloud/local/lib/perl5/Catalyst/Plugin/Authorization/ACL.pm line 39\\n\\tCatalyst::Plugin::Authorization::ACL::execute(MediaWords=HASH(0xcf4c098), \\\"MediaWords::Controller::Api::V2::Stories_Public\\\", Moose::Meta::Class::__ANON__::SERIAL::23=HASH(0xbda6bd0)) called at /home/mediacloud/mediacloud/local/lib/perl5/Catalyst/Plugin/StackTrace.pm line 23\\n\\tCatalyst::Plugin::StackTrace::execute(MediaWords=HASH(0xcf4c098), \\\"MediaWords::Controller::Api::V2::Stories_Public\\\", Moose::Meta::Class::__ANON__::SERIAL::23=HASH(0xbda6bd0)) called at /home/mediacloud/mediacloud/local/lib/perl5/Catalyst/Action/REST.pm line 149\\n\\tCatalyst::Action::REST::_dispatch_rest_method(Moose::Meta::Class::__ANON__::SERIAL::23=HASH(0xbda6bd0), MediaWords=HASH(0xcf4c098), \\\"list_GET\\\") called at lib/Catalyst/Action/MC_REST.pm line 44\\n\\tCatalyst::Action::MC_REST::dispatch(Moose::Meta::Class::__ANON__::SERIAL::23=HASH(0xbda6bd0), MediaWords=HASH(0xcf4c098)) called at /home/mediacloud/mediacloud/local/lib/perl5/Catalyst/Controller.pm line 171\\n\\tCatalyst::Controller::_ACTION(MediaWords::Controller::Api::V2::Stories_Public=HASH(0xbacb168), MediaWords=HASH(0xcf4c098)) called at /home/mediacloud/mediacloud/local/lib/perl5/Catalyst/Action.pm line 352\\n\\tCatalyst::Action::execute(Catalyst::Action=HASH(0xbda5ce8), MediaWords::Controller::Api::V2::Stories_Public=HASH(0xbacb168), MediaWords=HASH(0xcf4c098)) called at /home/mediacloud/mediacloud/local/lib/perl5/Catalyst.pm line 2027\\n\\teval {...} called at /home/mediacloud/mediacloud/local/lib/perl5/Catalyst.pm line 2027\\n\\tCatalyst::execute(MediaWords=HASH(0xcf4c098), \\\"MediaWords::Controller::Api::V2::Stories_Public\\\", Catalyst::Action=HASH(0xbda5ce8)) called at /home/mediacloud/mediacloud/local/lib/perl5/Catalyst/Plugin/Authorization/ACL.pm line 39\\n\\tCatalyst::Plugin::Authorization::ACL::execute(MediaWords=HASH(0xcf4c098), \\\"MediaWords::Controller::Api::V2::Stories_Public\\\", Catalyst::Action=HASH(0xbda5ce8)) called at /home/mediacloud/mediacloud/local/lib/perl5/Catalyst/Plugin/StackTrace.pm line 23\\n\\tCatalyst::Plugin::StackTrace::execute(MediaWords=HASH(0xcf4c098), \\\"MediaWords::Controller::Api::V2::Stories_Public\\\", Catalyst::Action=HASH(0xbda5ce8)) called at /home/mediacloud/mediacloud/local/lib/perl5/Catalyst/Action.pm line 347\\n\\tCatalyst::Action::dispatch(Catalyst::Action=HASH(0xbda5ce8), MediaWords=HASH(0xcf4c098)) called at /home/mediacloud/mediacloud/local/lib/perl5/Catalyst/Dispatcher.pm line 262\\n\\tCatalyst::Dispatcher::_do_forward(Catalyst::Dispatcher=HASH(0x5502e50), \\\"forward\\\", MediaWords=HASH(0xcf4c098), \\\"_ACTION\\\") called at /home/mediacloud/mediacloud/local/lib/perl5/Catalyst/Dispatcher.pm line 242\\n\\tCatalyst::Dispatcher::forward(Catalyst::Dispatcher=HASH(0x5502e50), MediaWords=HASH(0xcf4c098), \\\"_ACTION\\\") called at /home/mediacloud/mediacloud/local/lib/perl5/Catalyst.pm line 457\\n\\tCatalyst::forward(MediaWords=HASH(0xcf4c098), \\\"_ACTION\\\") called at /home/mediacloud/mediacloud/local/lib/perl5/Catalyst/Controller.pm line 135\\n\\tCatalyst::Controller::_DISPATCH(MediaWords::Controller::Api::V2::Stories_Public=HASH(0xbacb168), MediaWords=HASH(0xcf4c098)) called at /home/mediacloud/mediacloud/local/lib/perl5/Catalyst/Action.pm line 352\\n\\tCatalyst::Action::execute(Catalyst::Action=HASH(0xbda63a8), MediaWords::Controller::Api::V2::Stories_Public=HASH(0xbacb168), MediaWords=HASH(0xcf4c098)) called at /home/mediacloud/mediacloud/local/lib/perl5/Catalyst.pm line 2027\\n\\teval {...} called at /home/mediacloud/mediacloud/local/lib/perl5/Catalyst.pm line 2027\\n\\tCatalyst::execute(MediaWords=HASH(0xcf4c098), \\\"MediaWords::Controller::Api::V2::Stories_Public\\\", Catalyst::Action=HASH(0xbda63a8)) called at /home/mediacloud/mediacloud/local/lib/perl5/Catalyst/Plugin/Authorization/ACL.pm line 39\\n\\tCatalyst::Plugin::Authorization::ACL::execute(MediaWords=HASH(0xcf4c098), \\\"MediaWords::Controller::Api::V2::Stories_Public\\\", Catalyst::Action=HASH(0xbda63a8)) called at /home/mediacloud/mediacloud/local/lib/perl5/Catalyst/Plugin/StackTrace.pm line 23\\n\\tCatalyst::Plugin::StackTrace::execute(MediaWords=HASH(0xcf4c098), \\\"MediaWords::Controller::Api::V2::Stories_Public\\\", Catalyst::Action=HASH(0xbda63a8)) called at /home/mediacloud/mediacloud/local/lib/perl5/Catalyst/Action.pm line 347\\n\\tCatalyst::Action::dispatch(Catalyst::Action=HASH(0xbda63a8), MediaWords=HASH(0xcf4c098)) called at /home/mediacloud/mediacloud/local/lib/perl5/Catalyst/Dispatcher.pm line 262\\n\\tCatalyst::Dispatcher::_do_forward(Catalyst::Dispatcher=HASH(0x5502e50), \\\"forward\\\", MediaWords=HASH(0xcf4c098), \\\"/api/v2/stories_public/_DISPATCH\\\") called at /home/mediacloud/mediacloud/local/lib/perl5/Catalyst/Dispatcher.pm line 242\\n\\tCatalyst::Dispatcher::forward(Catalyst::Dispatcher=HASH(0x5502e50), MediaWords=HASH(0xcf4c098), \\\"/api/v2/stories_public/_DISPATCH\\\") called at /home/mediacloud/mediacloud/local/lib/perl5/Catalyst.pm line 457\\n\\tCatalyst::forward(MediaWords=HASH(0xcf4c098), \\\"/api/v2/stories_public/_DISPATCH\\\") called at /home/mediacloud/mediacloud/local/lib/perl5/Catalyst/Dispatcher.pm line 108\\n\\tCatalyst::Dispatcher::dispatch(Catalyst::Dispatcher=HASH(0x5502e50), MediaWords=HASH(0xcf4c098)) called at /home/mediacloud/mediacloud/local/lib/perl5/Catalyst.pm line 1973\\n\\tCatalyst::dispatch(MediaWords=HASH(0xcf4c098)) called at /home/mediacloud/mediacloud/local/lib/perl5/Catalyst/Plugin/Static/Simple.pm line 86\\n\\tClass::MOP::Class:::around(CODE(0x50710c0), MediaWords=HASH(0xcf4c098)) called at /home/mediacloud/mediacloud/local/lib/perl5/x86_64-linux-gnu-thread-multi/Class/MOP/Method/Wrapped.pm line 164\\n\\tMediaWords::_wrapped_dispatch(MediaWords=HASH(0xcf4c098)) called at /home/mediacloud/mediacloud/local/lib/perl5/x86_64-linux-gnu-thread-multi/Class/MOP/Method/Wrapped.pm line 95\\n\\tMediaWords::dispatch(MediaWords=HASH(0xcf4c098)) called at /home/mediacloud/mediacloud/local/lib/perl5/Catalyst.pm line 2364\\n\\tCatalyst::try {...} () called at /home/mediacloud/mediacloud/local/lib/perl5/Try/Tiny.pm line 81\\n\\teval {...} called at /home/mediacloud/mediacloud/local/lib/perl5/Try/Tiny.pm line 72\\n\\tTry::Tiny::try(CODE(0xc165c58), Try::Tiny::Catch=REF(0xc51a440)) called at /home/mediacloud/mediacloud/local/lib/perl5/Catalyst.pm line 2373\\n\\tCatalyst::handle_request(\\\"MediaWords\\\", \\\"env\\\", HASH(0xc1e0640), \\\"response_cb\\\", CODE(0xc1a3158)) called at /home/mediacloud/mediacloud/local/lib/perl5/Catalyst/Engine.pm line 796\\n\\tCatalyst::Engine::__ANON__(CODE(0xc1a3158)) called at /home/mediacloud/mediacloud/local/lib/perl5/Plack/Middleware/HTTPExceptions.pm line 32\\n\\tPlack::Middleware::HTTPExceptions::try {...} () called at /home/mediacloud/mediacloud/local/lib/perl5/Try/Tiny.pm line 81\\n\\teval {...} called at /home/mediacloud/mediacloud/local/lib/perl5/Try/Tiny.pm line 72\\n\\tTry::Tiny::try(CODE(0xc2b0b78), Try::Tiny::Catch=REF(0xc17bfa0)) called at /home/mediacloud/mediacloud/local/lib/perl5/Plack/Middleware/HTTPExceptions.pm line 41\\n\\tPlack::Middleware::HTTPExceptions::__ANON__(CODE(0xc2c26b8)) called at /home/mediacloud/mediacloud/local/lib/perl5/Plack/Util.pm line 301\\n\\tPlack::Util::__ANON__(CODE(0xc1e9948)) called at /home/mediacloud/mediacloud/local/lib/perl5/Plack/Util.pm line 301\\n\\tPlack::Util::__ANON__(CODE(0xc162500)) called at /home/mediacloud/mediacloud/local/lib/perl5/Plack/Util.pm line 301\\n\\tPlack::Util::__ANON__(CODE(0xc16d9b8)) called at /home/mediacloud/mediacloud/local/lib/perl5/Plack/Util.pm line 301\\n\\tPlack::Util::__ANON__(CODE(0xc1e0dd8)) called at /home/mediacloud/mediacloud/local/lib/perl5/Plack/Util.pm line 301\\n\\tPlack::Util::__ANON__(CODE(0xc0c5b20)) called at /home/mediacloud/mediacloud/local/lib/perl5/Plack/Handler/FCGI.pm line 136\\n\\tPlack::Handler::FCGI::run(Plack::Handler::FCGI=HASH(0xc0795a0), CODE(0xc077308)) called at /home/mediacloud/mediacloud/local/lib/perl5/Plack/Loader.pm line 84\\n\\tPlack::Loader::run(Plack::Loader=HASH(0x2554da8), Plack::Handler::FCGI=HASH(0xc0795a0)) called at /home/mediacloud/mediacloud/local/lib/perl5/Plack/Runner.pm line 277\\n\\tPlack::Runner::run(Plack::Runner=HASH(0x2337aa8)) called at /home/mediacloud/mediacloud/local/bin/plackup line 7\\\"\"}"
     ]
    }
   ],
   "source": [
    "mc.storyList(solr_query = query, rows = 10)"
   ]
  },
  {
   "cell_type": "code",
   "execution_count": 33,
   "metadata": {
    "collapsed": false
   },
   "outputs": [
    {
     "data": {
      "text/plain": [
       "'{~ topic:1404} AND \"hillary AND clinton\"'"
      ]
     },
     "execution_count": 33,
     "metadata": {},
     "output_type": "execute_result"
    }
   ],
   "source": [
    "query"
   ]
  },
  {
   "cell_type": "code",
   "execution_count": 46,
   "metadata": {
    "collapsed": false
   },
   "outputs": [
    {
     "data": {
      "text/plain": [
       "{u'count': 5458}"
      ]
     },
     "execution_count": 46,
     "metadata": {},
     "output_type": "execute_result"
    }
   ],
   "source": [
    "mc.storyCount(solr_query = \"{~ topic:1477} AND hillary AND clinton\")"
   ]
  },
  {
   "cell_type": "code",
   "execution_count": 47,
   "metadata": {
    "collapsed": false
   },
   "outputs": [
    {
     "ename": "MCException",
     "evalue": "Error - got a HTTP status code of 500 with the message \"Internal Server Error\", body: {\"error\":\"Error(s): Caught exception in MediaWords::Controller::Api::V2::Stories_Public->count \\\"transformed query is longer than max of 2000000 at lib/MediaWords/Solr/PseudoQueries.pm line 340.\\n\\tMediaWords::Solr::PseudoQueries::transform_query(\\\"{~ topic:1404} AND hillary AND clinton\\\") called at lib/MediaWords/Solr.pm line 264\\n\\tMediaWords::Solr::query_encoded_json(MediaWords::DB::HandlerProxy=HASH(0x127c4608), HASH(0x1279ac48), MediaWords=HASH(0x127703d0)) called at lib/MediaWords/Solr.pm line 366\\n\\tMediaWords::Solr::query(MediaWords::DB::HandlerProxy=HASH(0x127c4608), HASH(0x1279ac48), MediaWords=HASH(0x127703d0)) called at lib/MediaWords/Controller/Api/V2/StoriesBase.pm line 461\\n\\tMediaWords::Controller::Api::V2::StoriesBase::count_GET(MediaWords::Controller::Api::V2::Stories_Public=HASH(0xab31608), MediaWords=HASH(0x127703d0)) called at /home/mediacloud/mediacloud/local/lib/perl5/Catalyst/Action.pm line 352\\n\\tCatalyst::Action::execute(Moose::Meta::Class::__ANON__::SERIAL::26=HASH(0xaf597d0), MediaWords::Controller::Api::V2::Stories_Public=HASH(0xab31608), MediaWords=HASH(0x127703d0)) called at lib/MediaWords/ActionRole/PublicApiKeyAuthenticated.pm line 49\\n\\tClass::MOP::Class:::around(CODE(0x4d8c8f0), Moose::Meta::Class::__ANON__::SERIAL::26=HASH(0xaf597d0), MediaWords::Controller::Api::V2::Stories_Public=HASH(0xab31608), MediaWords=HASH(0x127703d0)) called at /home/mediacloud/mediacloud/local/lib/perl5/x86_64-linux-gnu-thread-multi/Class/MOP/Method/Wrapped.pm line 164\\n\\tClass::MOP::Method::Wrapped::__ANON__(Moose::Meta::Class::__ANON__::SERIAL::26=HASH(0xaf597d0), MediaWords::Controller::Api::V2::Stories_Public=HASH(0xab31608), MediaWords=HASH(0x127703d0)) called at lib/MediaWords/ActionRole/Throttled.pm line 116\\n\\tClass::MOP::Class:::around(CODE(0xae6aad8), Moose::Meta::Class::__ANON__::SERIAL::26=HASH(0xaf597d0), MediaWords::Controller::Api::V2::Stories_Public=HASH(0xab31608), MediaWords=HASH(0x127703d0)) called at /home/mediacloud/mediacloud/local/lib/perl5/x86_64-linux-gnu-thread-multi/Class/MOP/Method/Wrapped.pm line 164\\n\\tClass::MOP::Method::Wrapped::__ANON__(Moose::Meta::Class::__ANON__::SERIAL::26=HASH(0xaf597d0), MediaWords::Controller::Api::V2::Stories_Public=HASH(0xab31608), MediaWords=HASH(0x127703d0)) called at lib/MediaWords/ActionRole/Logged.pm line 28\\n\\tClass::MOP::Class:::around(CODE(0xae6b078), Moose::Meta::Class::__ANON__::SERIAL::26=HASH(0xaf597d0), MediaWords::Controller::Api::V2::Stories_Public=HASH(0xab31608), MediaWords=HASH(0x127703d0)) called at /home/mediacloud/mediacloud/local/lib/perl5/x86_64-linux-gnu-thread-multi/Class/MOP/Method/Wrapped.pm line 164\\n\\tMoose::Meta::Class::__ANON__::SERIAL::26::_wrapped_execute(Moose::Meta::Class::__ANON__::SERIAL::26=HASH(0xaf597d0), MediaWords::Controller::Api::V2::Stories_Public=HASH(0xab31608), MediaWords=HASH(0x127703d0)) called at /home/mediacloud/mediacloud/local/lib/perl5/x86_64-linux-gnu-thread-multi/Class/MOP/Method/Wrapped.pm line 95\\n\\tMoose::Meta::Class::__ANON__::SERIAL::26::execute(Moose::Meta::Class::__ANON__::SERIAL::26=HASH(0xaf597d0), MediaWords::Controller::Api::V2::Stories_Public=HASH(0xab31608), MediaWords=HASH(0x127703d0)) called at /home/mediacloud/mediacloud/local/lib/perl5/Catalyst.pm line 2027\\n\\teval {...} called at /home/mediacloud/mediacloud/local/lib/perl5/Catalyst.pm line 2027\\n\\tCatalyst::execute(MediaWords=HASH(0x127703d0), \\\"MediaWords::Controller::Api::V2::Stories_Public\\\", Moose::Meta::Class::__ANON__::SERIAL::26=HASH(0xaf597d0)) called at /home/mediacloud/mediacloud/local/lib/perl5/Catalyst/Plugin/Authorization/ACL.pm line 39\\n\\tCatalyst::Plugin::Authorization::ACL::execute(MediaWords=HASH(0x127703d0), \\\"MediaWords::Controller::Api::V2::Stories_Public\\\", Moose::Meta::Class::__ANON__::SERIAL::26=HASH(0xaf597d0)) called at /home/mediacloud/mediacloud/local/lib/perl5/Catalyst/Plugin/StackTrace.pm line 23\\n\\tCatalyst::Plugin::StackTrace::execute(MediaWords=HASH(0x127703d0), \\\"MediaWords::Controller::Api::V2::Stories_Public\\\", Moose::Meta::Class::__ANON__::SERIAL::26=HASH(0xaf597d0)) called at /home/mediacloud/mediacloud/local/lib/perl5/Catalyst/Action/REST.pm line 149\\n\\tCatalyst::Action::REST::_dispatch_rest_method(Moose::Meta::Class::__ANON__::SERIAL::26=HASH(0xaf597d0), MediaWords=HASH(0x127703d0), \\\"count_GET\\\") called at lib/Catalyst/Action/MC_REST.pm line 44\\n\\tCatalyst::Action::MC_REST::dispatch(Moose::Meta::Class::__ANON__::SERIAL::26=HASH(0xaf597d0), MediaWords=HASH(0x127703d0)) called at /home/mediacloud/mediacloud/local/lib/perl5/Catalyst/Controller.pm line 171\\n\\tCatalyst::Controller::_ACTION(MediaWords::Controller::Api::V2::Stories_Public=HASH(0xab31608), MediaWords=HASH(0x127703d0)) called at /home/mediacloud/mediacloud/local/lib/perl5/Catalyst/Action.pm line 352\\n\\tCatalyst::Action::execute(Catalyst::Action=HASH(0xaf52fb0), MediaWords::Controller::Api::V2::Stories_Public=HASH(0xab31608), MediaWords=HASH(0x127703d0)) called at /home/mediacloud/mediacloud/local/lib/perl5/Catalyst.pm line 2027\\n\\teval {...} called at /home/mediacloud/mediacloud/local/lib/perl5/Catalyst.pm line 2027\\n\\tCatalyst::execute(MediaWords=HASH(0x127703d0), \\\"MediaWords::Controller::Api::V2::Stories_Public\\\", Catalyst::Action=HASH(0xaf52fb0)) called at /home/mediacloud/mediacloud/local/lib/perl5/Catalyst/Plugin/Authorization/ACL.pm line 39\\n\\tCatalyst::Plugin::Authorization::ACL::execute(MediaWords=HASH(0x127703d0), \\\"MediaWords::Controller::Api::V2::Stories_Public\\\", Catalyst::Action=HASH(0xaf52fb0)) called at /home/mediacloud/mediacloud/local/lib/perl5/Catalyst/Plugin/StackTrace.pm line 23\\n\\tCatalyst::Plugin::StackTrace::execute(MediaWords=HASH(0x127703d0), \\\"MediaWords::Controller::Api::V2::Stories_Public\\\", Catalyst::Action=HASH(0xaf52fb0)) called at /home/mediacloud/mediacloud/local/lib/perl5/Catalyst/Action.pm line 347\\n\\tCatalyst::Action::dispatch(Catalyst::Action=HASH(0xaf52fb0), MediaWords=HASH(0x127703d0)) called at /home/mediacloud/mediacloud/local/lib/perl5/Catalyst/Dispatcher.pm line 262\\n\\tCatalyst::Dispatcher::_do_forward(Catalyst::Dispatcher=HASH(0x480ed28), \\\"forward\\\", MediaWords=HASH(0x127703d0), \\\"_ACTION\\\") called at /home/mediacloud/mediacloud/local/lib/perl5/Catalyst/Dispatcher.pm line 242\\n\\tCatalyst::Dispatcher::forward(Catalyst::Dispatcher=HASH(0x480ed28), MediaWords=HASH(0x127703d0), \\\"_ACTION\\\") called at /home/mediacloud/mediacloud/local/lib/perl5/Catalyst.pm line 457\\n\\tCatalyst::forward(MediaWords=HASH(0x127703d0), \\\"_ACTION\\\") called at /home/mediacloud/mediacloud/local/lib/perl5/Catalyst/Controller.pm line 135\\n\\tCatalyst::Controller::_DISPATCH(MediaWords::Controller::Api::V2::Stories_Public=HASH(0xab31608), MediaWords=HASH(0x127703d0)) called at /home/mediacloud/mediacloud/local/lib/perl5/Catalyst/Action.pm line 352\\n\\tCatalyst::Action::execute(Catalyst::Action=HASH(0xaf53be0), MediaWords::Controller::Api::V2::Stories_Public=HASH(0xab31608), MediaWords=HASH(0x127703d0)) called at /home/mediacloud/mediacloud/local/lib/perl5/Catalyst.pm line 2027\\n\\teval {...} called at /home/mediacloud/mediacloud/local/lib/perl5/Catalyst.pm line 2027\\n\\tCatalyst::execute(MediaWords=HASH(0x127703d0), \\\"MediaWords::Controller::Api::V2::Stories_Public\\\", Catalyst::Action=HASH(0xaf53be0)) called at /home/mediacloud/mediacloud/local/lib/perl5/Catalyst/Plugin/Authorization/ACL.pm line 39\\n\\tCatalyst::Plugin::Authorization::ACL::execute(MediaWords=HASH(0x127703d0), \\\"MediaWords::Controller::Api::V2::Stories_Public\\\", Catalyst::Action=HASH(0xaf53be0)) called at /home/mediacloud/mediacloud/local/lib/perl5/Catalyst/Plugin/StackTrace.pm line 23\\n\\tCatalyst::Plugin::StackTrace::execute(MediaWords=HASH(0x127703d0), \\\"MediaWords::Controller::Api::V2::Stories_Public\\\", Catalyst::Action=HASH(0xaf53be0)) called at /home/mediacloud/mediacloud/local/lib/perl5/Catalyst/Action.pm line 347\\n\\tCatalyst::Action::dispatch(Catalyst::Action=HASH(0xaf53be0), MediaWords=HASH(0x127703d0)) called at /home/mediacloud/mediacloud/local/lib/perl5/Catalyst/Dispatcher.pm line 262\\n\\tCatalyst::Dispatcher::_do_forward(Catalyst::Dispatcher=HASH(0x480ed28), \\\"forward\\\", MediaWords=HASH(0x127703d0), \\\"/api/v2/stories_public/_DISPATCH\\\") called at /home/mediacloud/mediacloud/local/lib/perl5/Catalyst/Dispatcher.pm line 242\\n\\tCatalyst::Dispatcher::forward(Catalyst::Dispatcher=HASH(0x480ed28), MediaWords=HASH(0x127703d0), \\\"/api/v2/stories_public/_DISPATCH\\\") called at /home/mediacloud/mediacloud/local/lib/perl5/Catalyst.pm line 457\\n\\tCatalyst::forward(MediaWords=HASH(0x127703d0), \\\"/api/v2/stories_public/_DISPATCH\\\") called at /home/mediacloud/mediacloud/local/lib/perl5/Catalyst/Dispatcher.pm line 108\\n\\tCatalyst::Dispatcher::dispatch(Catalyst::Dispatcher=HASH(0x480ed28), MediaWords=HASH(0x127703d0)) called at /home/mediacloud/mediacloud/local/lib/perl5/Catalyst.pm line 1973\\n\\tCatalyst::dispatch(MediaWords=HASH(0x127703d0)) called at /home/mediacloud/mediacloud/local/lib/perl5/Catalyst/Plugin/Static/Simple.pm line 86\\n\\tClass::MOP::Class:::around(CODE(0x40d4860), MediaWords=HASH(0x127703d0)) called at /home/mediacloud/mediacloud/local/lib/perl5/x86_64-linux-gnu-thread-multi/Class/MOP/Method/Wrapped.pm line 164\\n\\tMediaWords::_wrapped_dispatch(MediaWords=HASH(0x127703d0)) called at /home/mediacloud/mediacloud/local/lib/perl5/x86_64-linux-gnu-thread-multi/Class/MOP/Method/Wrapped.pm line 95\\n\\tMediaWords::dispatch(MediaWords=HASH(0x127703d0)) called at /home/mediacloud/mediacloud/local/lib/perl5/Catalyst.pm line 2364\\n\\tCatalyst::try {...} () called at /home/mediacloud/mediacloud/local/lib/perl5/Try/Tiny.pm line 81\\n\\teval {...} called at /home/mediacloud/mediacloud/local/lib/perl5/Try/Tiny.pm line 72\\n\\tTry::Tiny::try(CODE(0x12810780), Try::Tiny::Catch=REF(0x129ef178)) called at /home/mediacloud/mediacloud/local/lib/perl5/Catalyst.pm line 2373\\n\\tCatalyst::handle_request(\\\"MediaWords\\\", \\\"env\\\", HASH(0x129ef6a0), \\\"response_cb\\\", CODE(0x127b5750)) called at /home/mediacloud/mediacloud/local/lib/perl5/Catalyst/Engine.pm line 796\\n\\tCatalyst::Engine::__ANON__(CODE(0x127b5750)) called at /home/mediacloud/mediacloud/local/lib/perl5/Plack/Middleware/HTTPExceptions.pm line 32\\n\\tPlack::Middleware::HTTPExceptions::try {...} () called at /home/mediacloud/mediacloud/local/lib/perl5/Try/Tiny.pm line 81\\n\\teval {...} called at /home/mediacloud/mediacloud/local/lib/perl5/Try/Tiny.pm line 72\\n\\tTry::Tiny::try(CODE(0x1708a20), Try::Tiny::Catch=REF(0x12ca15a0)) called at /home/mediacloud/mediacloud/local/lib/perl5/Plack/Middleware/HTTPExceptions.pm line 41\\n\\tPlack::Middleware::HTTPExceptions::__ANON__(CODE(0x1279cac0)) called at /home/mediacloud/mediacloud/local/lib/perl5/Plack/Util.pm line 301\\n\\tPlack::Util::__ANON__(CODE(0x129ec7d0)) called at /home/mediacloud/mediacloud/local/lib/perl5/Plack/Util.pm line 301\\n\\tPlack::Util::__ANON__(CODE(0x129ecd10)) called at /home/mediacloud/mediacloud/local/lib/perl5/Plack/Util.pm line 301\\n\\tPlack::Util::__ANON__(CODE(0x127dbd18)) called at /home/mediacloud/mediacloud/local/lib/perl5/Plack/Util.pm line 301\\n\\tPlack::Util::__ANON__(CODE(0x127c6bb8)) called at /home/mediacloud/mediacloud/local/lib/perl5/Plack/Util.pm line 301\\n\\tPlack::Util::__ANON__(CODE(0x1278b4f0)) called at /home/mediacloud/mediacloud/local/lib/perl5/Plack/Handler/FCGI.pm line 136\\n\\tPlack::Handler::FCGI::run(Plack::Handler::FCGI=HASH(0xb0e07e8), CODE(0xb0dea78)) called at /home/mediacloud/mediacloud/local/lib/perl5/Plack/Loader.pm line 84\\n\\tPlack::Loader::run(Plack::Loader=HASH(0x15b72b0), Plack::Handler::FCGI=HASH(0xb0e07e8)) called at /home/mediacloud/mediacloud/local/lib/perl5/Plack/Runner.pm line 277\\n\\tPlack::Runner::run(Plack::Runner=HASH(0x139aaa8)) called at /home/mediacloud/mediacloud/local/bin/plackup line 7\\\"\"}",
     "output_type": "error",
     "traceback": [
      "\u001b[0;31m---------------------------------------------------------------------------\u001b[0m",
      "\u001b[0;31mMCException\u001b[0m                               Traceback (most recent call last)",
      "\u001b[0;32m<ipython-input-47-b4c1b605fc62>\u001b[0m in \u001b[0;36m<module>\u001b[0;34m()\u001b[0m\n\u001b[1;32m      1\u001b[0m \u001b[1;31m# for some reason storyCount is breaking if we query topoic 1404... ugh\u001b[0m\u001b[1;33m\u001b[0m\u001b[1;33m\u001b[0m\u001b[0m\n\u001b[0;32m----> 2\u001b[0;31m \u001b[0mmc\u001b[0m\u001b[1;33m.\u001b[0m\u001b[0mstoryCount\u001b[0m\u001b[1;33m(\u001b[0m\u001b[0msolr_query\u001b[0m \u001b[1;33m=\u001b[0m \u001b[1;34m\"{~ topic:1404} AND hillary AND clinton\"\u001b[0m\u001b[1;33m)\u001b[0m\u001b[1;33m\u001b[0m\u001b[0m\n\u001b[0m",
      "\u001b[0;32mc:\\users\\allan\\anaconda2\\lib\\site-packages\\mediacloud\\api.pyc\u001b[0m in \u001b[0;36mstoryCount\u001b[0;34m(self, solr_query, solr_filter)\u001b[0m\n\u001b[1;32m    254\u001b[0m         return self._queryForJson(self.V2_API_URL+'stories_public/count',\n\u001b[1;32m    255\u001b[0m                 {'q': solr_query,\n\u001b[0;32m--> 256\u001b[0;31m                  \u001b[1;34m'fq'\u001b[0m\u001b[1;33m:\u001b[0m \u001b[0msolr_filter\u001b[0m\u001b[1;33m\u001b[0m\u001b[0m\n\u001b[0m\u001b[1;32m    257\u001b[0m                 })\n\u001b[1;32m    258\u001b[0m \u001b[1;33m\u001b[0m\u001b[0m\n",
      "\u001b[0;32mc:\\users\\allan\\anaconda2\\lib\\site-packages\\mediacloud\\api.pyc\u001b[0m in \u001b[0;36m_queryForJson\u001b[0;34m(self, url, params, http_method, json_data)\u001b[0m\n\u001b[1;32m    394\u001b[0m         \u001b[0mHelper\u001b[0m \u001b[0mthat\u001b[0m \u001b[0mreturns\u001b[0m \u001b[0mqueries\u001b[0m \u001b[0mto\u001b[0m \u001b[0mthe\u001b[0m \u001b[0mAPI\u001b[0m \u001b[1;32mas\u001b[0m \u001b[0mreal\u001b[0m \u001b[0mobjects\u001b[0m\u001b[1;33m\u001b[0m\u001b[0m\n\u001b[1;32m    395\u001b[0m         '''\n\u001b[0;32m--> 396\u001b[0;31m         \u001b[0mresponse\u001b[0m \u001b[1;33m=\u001b[0m \u001b[0mself\u001b[0m\u001b[1;33m.\u001b[0m\u001b[0m_query\u001b[0m\u001b[1;33m(\u001b[0m\u001b[0murl\u001b[0m\u001b[1;33m,\u001b[0m \u001b[0mparams\u001b[0m\u001b[1;33m,\u001b[0m \u001b[0mhttp_method\u001b[0m\u001b[1;33m,\u001b[0m \u001b[0mjson_data\u001b[0m\u001b[1;33m)\u001b[0m\u001b[1;33m\u001b[0m\u001b[0m\n\u001b[0m\u001b[1;32m    397\u001b[0m         \u001b[1;31m# print response.content\u001b[0m\u001b[1;33m\u001b[0m\u001b[1;33m\u001b[0m\u001b[0m\n\u001b[1;32m    398\u001b[0m         \u001b[0mresponse_json\u001b[0m \u001b[1;33m=\u001b[0m \u001b[0mresponse\u001b[0m\u001b[1;33m.\u001b[0m\u001b[0mjson\u001b[0m\u001b[1;33m(\u001b[0m\u001b[1;33m)\u001b[0m\u001b[1;33m\u001b[0m\u001b[0m\n",
      "\u001b[0;32mc:\\users\\allan\\anaconda2\\lib\\site-packages\\mediacloud\\api.pyc\u001b[0m in \u001b[0;36m_query\u001b[0;34m(self, url, params, http_method, json_data)\u001b[0m\n\u001b[1;32m    472\u001b[0m             msg = 'Error - got a HTTP status code of %s with the message \"%s\", body: %s' % (\n\u001b[1;32m    473\u001b[0m                 str(r.status_code), str(r.reason), str(r.text))\n\u001b[0;32m--> 474\u001b[0;31m             \u001b[1;32mraise\u001b[0m \u001b[0mmediacloud\u001b[0m\u001b[1;33m.\u001b[0m\u001b[0merror\u001b[0m\u001b[1;33m.\u001b[0m\u001b[0mMCException\u001b[0m\u001b[1;33m(\u001b[0m\u001b[0mmsg\u001b[0m\u001b[1;33m,\u001b[0m \u001b[0mr\u001b[0m\u001b[1;33m.\u001b[0m\u001b[0mstatus_code\u001b[0m\u001b[1;33m)\u001b[0m\u001b[1;33m\u001b[0m\u001b[0m\n\u001b[0m\u001b[1;32m    475\u001b[0m         \u001b[1;32mreturn\u001b[0m \u001b[0mr\u001b[0m\u001b[1;33m\u001b[0m\u001b[0m\n\u001b[1;32m    476\u001b[0m \u001b[1;33m\u001b[0m\u001b[0m\n",
      "\u001b[0;31mMCException\u001b[0m: Error - got a HTTP status code of 500 with the message \"Internal Server Error\", body: {\"error\":\"Error(s): Caught exception in MediaWords::Controller::Api::V2::Stories_Public->count \\\"transformed query is longer than max of 2000000 at lib/MediaWords/Solr/PseudoQueries.pm line 340.\\n\\tMediaWords::Solr::PseudoQueries::transform_query(\\\"{~ topic:1404} AND hillary AND clinton\\\") called at lib/MediaWords/Solr.pm line 264\\n\\tMediaWords::Solr::query_encoded_json(MediaWords::DB::HandlerProxy=HASH(0x127c4608), HASH(0x1279ac48), MediaWords=HASH(0x127703d0)) called at lib/MediaWords/Solr.pm line 366\\n\\tMediaWords::Solr::query(MediaWords::DB::HandlerProxy=HASH(0x127c4608), HASH(0x1279ac48), MediaWords=HASH(0x127703d0)) called at lib/MediaWords/Controller/Api/V2/StoriesBase.pm line 461\\n\\tMediaWords::Controller::Api::V2::StoriesBase::count_GET(MediaWords::Controller::Api::V2::Stories_Public=HASH(0xab31608), MediaWords=HASH(0x127703d0)) called at /home/mediacloud/mediacloud/local/lib/perl5/Catalyst/Action.pm line 352\\n\\tCatalyst::Action::execute(Moose::Meta::Class::__ANON__::SERIAL::26=HASH(0xaf597d0), MediaWords::Controller::Api::V2::Stories_Public=HASH(0xab31608), MediaWords=HASH(0x127703d0)) called at lib/MediaWords/ActionRole/PublicApiKeyAuthenticated.pm line 49\\n\\tClass::MOP::Class:::around(CODE(0x4d8c8f0), Moose::Meta::Class::__ANON__::SERIAL::26=HASH(0xaf597d0), MediaWords::Controller::Api::V2::Stories_Public=HASH(0xab31608), MediaWords=HASH(0x127703d0)) called at /home/mediacloud/mediacloud/local/lib/perl5/x86_64-linux-gnu-thread-multi/Class/MOP/Method/Wrapped.pm line 164\\n\\tClass::MOP::Method::Wrapped::__ANON__(Moose::Meta::Class::__ANON__::SERIAL::26=HASH(0xaf597d0), MediaWords::Controller::Api::V2::Stories_Public=HASH(0xab31608), MediaWords=HASH(0x127703d0)) called at lib/MediaWords/ActionRole/Throttled.pm line 116\\n\\tClass::MOP::Class:::around(CODE(0xae6aad8), Moose::Meta::Class::__ANON__::SERIAL::26=HASH(0xaf597d0), MediaWords::Controller::Api::V2::Stories_Public=HASH(0xab31608), MediaWords=HASH(0x127703d0)) called at /home/mediacloud/mediacloud/local/lib/perl5/x86_64-linux-gnu-thread-multi/Class/MOP/Method/Wrapped.pm line 164\\n\\tClass::MOP::Method::Wrapped::__ANON__(Moose::Meta::Class::__ANON__::SERIAL::26=HASH(0xaf597d0), MediaWords::Controller::Api::V2::Stories_Public=HASH(0xab31608), MediaWords=HASH(0x127703d0)) called at lib/MediaWords/ActionRole/Logged.pm line 28\\n\\tClass::MOP::Class:::around(CODE(0xae6b078), Moose::Meta::Class::__ANON__::SERIAL::26=HASH(0xaf597d0), MediaWords::Controller::Api::V2::Stories_Public=HASH(0xab31608), MediaWords=HASH(0x127703d0)) called at /home/mediacloud/mediacloud/local/lib/perl5/x86_64-linux-gnu-thread-multi/Class/MOP/Method/Wrapped.pm line 164\\n\\tMoose::Meta::Class::__ANON__::SERIAL::26::_wrapped_execute(Moose::Meta::Class::__ANON__::SERIAL::26=HASH(0xaf597d0), MediaWords::Controller::Api::V2::Stories_Public=HASH(0xab31608), MediaWords=HASH(0x127703d0)) called at /home/mediacloud/mediacloud/local/lib/perl5/x86_64-linux-gnu-thread-multi/Class/MOP/Method/Wrapped.pm line 95\\n\\tMoose::Meta::Class::__ANON__::SERIAL::26::execute(Moose::Meta::Class::__ANON__::SERIAL::26=HASH(0xaf597d0), MediaWords::Controller::Api::V2::Stories_Public=HASH(0xab31608), MediaWords=HASH(0x127703d0)) called at /home/mediacloud/mediacloud/local/lib/perl5/Catalyst.pm line 2027\\n\\teval {...} called at /home/mediacloud/mediacloud/local/lib/perl5/Catalyst.pm line 2027\\n\\tCatalyst::execute(MediaWords=HASH(0x127703d0), \\\"MediaWords::Controller::Api::V2::Stories_Public\\\", Moose::Meta::Class::__ANON__::SERIAL::26=HASH(0xaf597d0)) called at /home/mediacloud/mediacloud/local/lib/perl5/Catalyst/Plugin/Authorization/ACL.pm line 39\\n\\tCatalyst::Plugin::Authorization::ACL::execute(MediaWords=HASH(0x127703d0), \\\"MediaWords::Controller::Api::V2::Stories_Public\\\", Moose::Meta::Class::__ANON__::SERIAL::26=HASH(0xaf597d0)) called at /home/mediacloud/mediacloud/local/lib/perl5/Catalyst/Plugin/StackTrace.pm line 23\\n\\tCatalyst::Plugin::StackTrace::execute(MediaWords=HASH(0x127703d0), \\\"MediaWords::Controller::Api::V2::Stories_Public\\\", Moose::Meta::Class::__ANON__::SERIAL::26=HASH(0xaf597d0)) called at /home/mediacloud/mediacloud/local/lib/perl5/Catalyst/Action/REST.pm line 149\\n\\tCatalyst::Action::REST::_dispatch_rest_method(Moose::Meta::Class::__ANON__::SERIAL::26=HASH(0xaf597d0), MediaWords=HASH(0x127703d0), \\\"count_GET\\\") called at lib/Catalyst/Action/MC_REST.pm line 44\\n\\tCatalyst::Action::MC_REST::dispatch(Moose::Meta::Class::__ANON__::SERIAL::26=HASH(0xaf597d0), MediaWords=HASH(0x127703d0)) called at /home/mediacloud/mediacloud/local/lib/perl5/Catalyst/Controller.pm line 171\\n\\tCatalyst::Controller::_ACTION(MediaWords::Controller::Api::V2::Stories_Public=HASH(0xab31608), MediaWords=HASH(0x127703d0)) called at /home/mediacloud/mediacloud/local/lib/perl5/Catalyst/Action.pm line 352\\n\\tCatalyst::Action::execute(Catalyst::Action=HASH(0xaf52fb0), MediaWords::Controller::Api::V2::Stories_Public=HASH(0xab31608), MediaWords=HASH(0x127703d0)) called at /home/mediacloud/mediacloud/local/lib/perl5/Catalyst.pm line 2027\\n\\teval {...} called at /home/mediacloud/mediacloud/local/lib/perl5/Catalyst.pm line 2027\\n\\tCatalyst::execute(MediaWords=HASH(0x127703d0), \\\"MediaWords::Controller::Api::V2::Stories_Public\\\", Catalyst::Action=HASH(0xaf52fb0)) called at /home/mediacloud/mediacloud/local/lib/perl5/Catalyst/Plugin/Authorization/ACL.pm line 39\\n\\tCatalyst::Plugin::Authorization::ACL::execute(MediaWords=HASH(0x127703d0), \\\"MediaWords::Controller::Api::V2::Stories_Public\\\", Catalyst::Action=HASH(0xaf52fb0)) called at /home/mediacloud/mediacloud/local/lib/perl5/Catalyst/Plugin/StackTrace.pm line 23\\n\\tCatalyst::Plugin::StackTrace::execute(MediaWords=HASH(0x127703d0), \\\"MediaWords::Controller::Api::V2::Stories_Public\\\", Catalyst::Action=HASH(0xaf52fb0)) called at /home/mediacloud/mediacloud/local/lib/perl5/Catalyst/Action.pm line 347\\n\\tCatalyst::Action::dispatch(Catalyst::Action=HASH(0xaf52fb0), MediaWords=HASH(0x127703d0)) called at /home/mediacloud/mediacloud/local/lib/perl5/Catalyst/Dispatcher.pm line 262\\n\\tCatalyst::Dispatcher::_do_forward(Catalyst::Dispatcher=HASH(0x480ed28), \\\"forward\\\", MediaWords=HASH(0x127703d0), \\\"_ACTION\\\") called at /home/mediacloud/mediacloud/local/lib/perl5/Catalyst/Dispatcher.pm line 242\\n\\tCatalyst::Dispatcher::forward(Catalyst::Dispatcher=HASH(0x480ed28), MediaWords=HASH(0x127703d0), \\\"_ACTION\\\") called at /home/mediacloud/mediacloud/local/lib/perl5/Catalyst.pm line 457\\n\\tCatalyst::forward(MediaWords=HASH(0x127703d0), \\\"_ACTION\\\") called at /home/mediacloud/mediacloud/local/lib/perl5/Catalyst/Controller.pm line 135\\n\\tCatalyst::Controller::_DISPATCH(MediaWords::Controller::Api::V2::Stories_Public=HASH(0xab31608), MediaWords=HASH(0x127703d0)) called at /home/mediacloud/mediacloud/local/lib/perl5/Catalyst/Action.pm line 352\\n\\tCatalyst::Action::execute(Catalyst::Action=HASH(0xaf53be0), MediaWords::Controller::Api::V2::Stories_Public=HASH(0xab31608), MediaWords=HASH(0x127703d0)) called at /home/mediacloud/mediacloud/local/lib/perl5/Catalyst.pm line 2027\\n\\teval {...} called at /home/mediacloud/mediacloud/local/lib/perl5/Catalyst.pm line 2027\\n\\tCatalyst::execute(MediaWords=HASH(0x127703d0), \\\"MediaWords::Controller::Api::V2::Stories_Public\\\", Catalyst::Action=HASH(0xaf53be0)) called at /home/mediacloud/mediacloud/local/lib/perl5/Catalyst/Plugin/Authorization/ACL.pm line 39\\n\\tCatalyst::Plugin::Authorization::ACL::execute(MediaWords=HASH(0x127703d0), \\\"MediaWords::Controller::Api::V2::Stories_Public\\\", Catalyst::Action=HASH(0xaf53be0)) called at /home/mediacloud/mediacloud/local/lib/perl5/Catalyst/Plugin/StackTrace.pm line 23\\n\\tCatalyst::Plugin::StackTrace::execute(MediaWords=HASH(0x127703d0), \\\"MediaWords::Controller::Api::V2::Stories_Public\\\", Catalyst::Action=HASH(0xaf53be0)) called at /home/mediacloud/mediacloud/local/lib/perl5/Catalyst/Action.pm line 347\\n\\tCatalyst::Action::dispatch(Catalyst::Action=HASH(0xaf53be0), MediaWords=HASH(0x127703d0)) called at /home/mediacloud/mediacloud/local/lib/perl5/Catalyst/Dispatcher.pm line 262\\n\\tCatalyst::Dispatcher::_do_forward(Catalyst::Dispatcher=HASH(0x480ed28), \\\"forward\\\", MediaWords=HASH(0x127703d0), \\\"/api/v2/stories_public/_DISPATCH\\\") called at /home/mediacloud/mediacloud/local/lib/perl5/Catalyst/Dispatcher.pm line 242\\n\\tCatalyst::Dispatcher::forward(Catalyst::Dispatcher=HASH(0x480ed28), MediaWords=HASH(0x127703d0), \\\"/api/v2/stories_public/_DISPATCH\\\") called at /home/mediacloud/mediacloud/local/lib/perl5/Catalyst.pm line 457\\n\\tCatalyst::forward(MediaWords=HASH(0x127703d0), \\\"/api/v2/stories_public/_DISPATCH\\\") called at /home/mediacloud/mediacloud/local/lib/perl5/Catalyst/Dispatcher.pm line 108\\n\\tCatalyst::Dispatcher::dispatch(Catalyst::Dispatcher=HASH(0x480ed28), MediaWords=HASH(0x127703d0)) called at /home/mediacloud/mediacloud/local/lib/perl5/Catalyst.pm line 1973\\n\\tCatalyst::dispatch(MediaWords=HASH(0x127703d0)) called at /home/mediacloud/mediacloud/local/lib/perl5/Catalyst/Plugin/Static/Simple.pm line 86\\n\\tClass::MOP::Class:::around(CODE(0x40d4860), MediaWords=HASH(0x127703d0)) called at /home/mediacloud/mediacloud/local/lib/perl5/x86_64-linux-gnu-thread-multi/Class/MOP/Method/Wrapped.pm line 164\\n\\tMediaWords::_wrapped_dispatch(MediaWords=HASH(0x127703d0)) called at /home/mediacloud/mediacloud/local/lib/perl5/x86_64-linux-gnu-thread-multi/Class/MOP/Method/Wrapped.pm line 95\\n\\tMediaWords::dispatch(MediaWords=HASH(0x127703d0)) called at /home/mediacloud/mediacloud/local/lib/perl5/Catalyst.pm line 2364\\n\\tCatalyst::try {...} () called at /home/mediacloud/mediacloud/local/lib/perl5/Try/Tiny.pm line 81\\n\\teval {...} called at /home/mediacloud/mediacloud/local/lib/perl5/Try/Tiny.pm line 72\\n\\tTry::Tiny::try(CODE(0x12810780), Try::Tiny::Catch=REF(0x129ef178)) called at /home/mediacloud/mediacloud/local/lib/perl5/Catalyst.pm line 2373\\n\\tCatalyst::handle_request(\\\"MediaWords\\\", \\\"env\\\", HASH(0x129ef6a0), \\\"response_cb\\\", CODE(0x127b5750)) called at /home/mediacloud/mediacloud/local/lib/perl5/Catalyst/Engine.pm line 796\\n\\tCatalyst::Engine::__ANON__(CODE(0x127b5750)) called at /home/mediacloud/mediacloud/local/lib/perl5/Plack/Middleware/HTTPExceptions.pm line 32\\n\\tPlack::Middleware::HTTPExceptions::try {...} () called at /home/mediacloud/mediacloud/local/lib/perl5/Try/Tiny.pm line 81\\n\\teval {...} called at /home/mediacloud/mediacloud/local/lib/perl5/Try/Tiny.pm line 72\\n\\tTry::Tiny::try(CODE(0x1708a20), Try::Tiny::Catch=REF(0x12ca15a0)) called at /home/mediacloud/mediacloud/local/lib/perl5/Plack/Middleware/HTTPExceptions.pm line 41\\n\\tPlack::Middleware::HTTPExceptions::__ANON__(CODE(0x1279cac0)) called at /home/mediacloud/mediacloud/local/lib/perl5/Plack/Util.pm line 301\\n\\tPlack::Util::__ANON__(CODE(0x129ec7d0)) called at /home/mediacloud/mediacloud/local/lib/perl5/Plack/Util.pm line 301\\n\\tPlack::Util::__ANON__(CODE(0x129ecd10)) called at /home/mediacloud/mediacloud/local/lib/perl5/Plack/Util.pm line 301\\n\\tPlack::Util::__ANON__(CODE(0x127dbd18)) called at /home/mediacloud/mediacloud/local/lib/perl5/Plack/Util.pm line 301\\n\\tPlack::Util::__ANON__(CODE(0x127c6bb8)) called at /home/mediacloud/mediacloud/local/lib/perl5/Plack/Util.pm line 301\\n\\tPlack::Util::__ANON__(CODE(0x1278b4f0)) called at /home/mediacloud/mediacloud/local/lib/perl5/Plack/Handler/FCGI.pm line 136\\n\\tPlack::Handler::FCGI::run(Plack::Handler::FCGI=HASH(0xb0e07e8), CODE(0xb0dea78)) called at /home/mediacloud/mediacloud/local/lib/perl5/Plack/Loader.pm line 84\\n\\tPlack::Loader::run(Plack::Loader=HASH(0x15b72b0), Plack::Handler::FCGI=HASH(0xb0e07e8)) called at /home/mediacloud/mediacloud/local/lib/perl5/Plack/Runner.pm line 277\\n\\tPlack::Runner::run(Plack::Runner=HASH(0x139aaa8)) called at /home/mediacloud/mediacloud/local/bin/plackup line 7\\\"\"}"
     ]
    }
   ],
   "source": [
    "# for some reason storyCount is breaking if we query topic 1404... ugh\n",
    "mc.storyCount(solr_query = \"{~ topic:1404} AND hillary AND clinton\")"
   ]
  },
  {
   "cell_type": "code",
   "execution_count": 48,
   "metadata": {
    "collapsed": true
   },
   "outputs": [],
   "source": [
    "\n",
    "network = mc.topicMediaMap(1477)\n",
    "\n",
    "with open('network-1477.gefx', 'wb') as f:\n",
    "    f.write(network)"
   ]
  },
  {
   "cell_type": "code",
   "execution_count": 55,
   "metadata": {
    "collapsed": false
   },
   "outputs": [
    {
     "data": {
      "text/plain": [
       "{u'link_ids': {u'current': 23835, u'next': 23836},\n",
       " u'stories': [{u'bitly_click_count': 1,\n",
       "   u'collect_date': u'2016-03-30 16:34:52.266809',\n",
       "   u'date_is_reliable': 0,\n",
       "   u'facebook_share_count': 30860,\n",
       "   u'foci': [{u'focal_set_name': u'Retweet Partisanship Halves',\n",
       "     u'foci_id': 581,\n",
       "     u'name': u'Right Half',\n",
       "     u'stories_id': 440271020},\n",
       "    {u'focal_set_name': u'Retweet Partisanship Quintiles',\n",
       "     u'foci_id': 579,\n",
       "     u'name': u'Right',\n",
       "     u'stories_id': 440271020},\n",
       "    {u'focal_set_name': u'Mass Market Media',\n",
       "     u'foci_id': 572,\n",
       "     u'name': u'Mass Market Media',\n",
       "     u'stories_id': 440271020}],\n",
       "   u'full_text_rss': 0,\n",
       "   u'guid': u'http://www.breitbart.com/tech/2016/03/29/an-establishment-conservatives-guide-to-the-alt-right/',\n",
       "   u'inlink_count': 167,\n",
       "   u'language': u'en',\n",
       "   u'media_id': 19334,\n",
       "   u'media_inlink_count': 96,\n",
       "   u'media_name': u'Breitbart',\n",
       "   u'normalized_tweet_count': None,\n",
       "   u'outlink_count': 0,\n",
       "   u'publish_date': u'2016-03-29 23:01:13',\n",
       "   u'simple_tweet_count': None,\n",
       "   u'snapshots_id': 1576,\n",
       "   u'stories_id': 440271020,\n",
       "   u'timespans_id': 67515,\n",
       "   u'title': u'An Establishment Conservative\\u2019s Guide To The Alt-Right',\n",
       "   u'url': u'http://feedproxy.google.com/~r/breitbart/~3/mA0wfrKccTw/'},\n",
       "  {u'bitly_click_count': 0,\n",
       "   u'collect_date': u'2017-03-14 03:20:01',\n",
       "   u'date_is_reliable': 1,\n",
       "   u'facebook_share_count': 31,\n",
       "   u'foci': [{u'focal_set_name': u'Retweet Partisanship Halves',\n",
       "     u'foci_id': 581,\n",
       "     u'name': u'Right Half',\n",
       "     u'stories_id': 593497432},\n",
       "    {u'focal_set_name': u'Retweet Partisanship Quintiles',\n",
       "     u'foci_id': 579,\n",
       "     u'name': u'Right',\n",
       "     u'stories_id': 593497432}],\n",
       "   u'full_text_rss': 0,\n",
       "   u'guid': u'http://www.ontheissues.org/donald_trump.htm#Gun_Control',\n",
       "   u'inlink_count': 50,\n",
       "   u'language': u'en',\n",
       "   u'media_id': 35448,\n",
       "   u'media_inlink_count': 42,\n",
       "   u'media_name': u'ontheissues.org',\n",
       "   u'normalized_tweet_count': None,\n",
       "   u'outlink_count': 5,\n",
       "   u'publish_date': u'undateable',\n",
       "   u'simple_tweet_count': None,\n",
       "   u'snapshots_id': 1576,\n",
       "   u'stories_id': 593497432,\n",
       "   u'timespans_id': 67515,\n",
       "   u'title': u'Donald Trump on the Issues',\n",
       "   u'url': u'http://www.ontheissues.org/donald_trump.htm#Gun_Control'},\n",
       "  {u'bitly_click_count': 0,\n",
       "   u'collect_date': u'2016-12-07 10:41:44',\n",
       "   u'date_is_reliable': 1,\n",
       "   u'facebook_share_count': 265,\n",
       "   u'foci': [{u'focal_set_name': u'Retweet Partisanship Halves',\n",
       "     u'foci_id': 581,\n",
       "     u'name': u'Right Half',\n",
       "     u'stories_id': 551468844},\n",
       "    {u'focal_set_name': u'Retweet Partisanship Quintiles',\n",
       "     u'foci_id': 579,\n",
       "     u'name': u'Right',\n",
       "     u'stories_id': 551468844}],\n",
       "   u'full_text_rss': 0,\n",
       "   u'guid': u'http://www.ontheissues.org/senate/bernie_sanders.htm#',\n",
       "   u'inlink_count': 60,\n",
       "   u'language': u'en',\n",
       "   u'media_id': 35448,\n",
       "   u'media_inlink_count': 41,\n",
       "   u'media_name': u'ontheissues.org',\n",
       "   u'normalized_tweet_count': None,\n",
       "   u'outlink_count': 7,\n",
       "   u'publish_date': u'undateable',\n",
       "   u'simple_tweet_count': None,\n",
       "   u'snapshots_id': 1576,\n",
       "   u'stories_id': 551468844,\n",
       "   u'timespans_id': 67515,\n",
       "   u'title': u'Bernie Sanders on the Issues',\n",
       "   u'url': u'http://www.ontheissues.org/senate/bernie_sanders.htm#'},\n",
       "  {u'bitly_click_count': 0,\n",
       "   u'collect_date': u'2015-07-22 05:17:01',\n",
       "   u'date_is_reliable': 0,\n",
       "   u'facebook_share_count': 13743,\n",
       "   u'foci': [],\n",
       "   u'full_text_rss': 0,\n",
       "   u'guid': u'http://www.blackagendareport.com/bernie-sanders-sheepdog-4-hillary',\n",
       "   u'inlink_count': 53,\n",
       "   u'language': u'en',\n",
       "   u'media_id': 26040,\n",
       "   u'media_inlink_count': 38,\n",
       "   u'media_name': u'blackagendareport.com',\n",
       "   u'normalized_tweet_count': None,\n",
       "   u'outlink_count': 1,\n",
       "   u'publish_date': u'2015-05-06 16:09:33',\n",
       "   u'simple_tweet_count': None,\n",
       "   u'snapshots_id': 1576,\n",
       "   u'stories_id': 363307501,\n",
       "   u'timespans_id': 67515,\n",
       "   u'title': u'Presidential Candidate Bernie Sanders: Sheepdogging for Hillary and the Democrats in 2016 | Black Agenda Report ',\n",
       "   u'url': u'http://www.blackagendareport.com/bernie-sanders-sheepdog-4-hillary'},\n",
       "  {u'bitly_click_count': 0,\n",
       "   u'collect_date': u'2016-08-28 05:30:19',\n",
       "   u'date_is_reliable': 1,\n",
       "   u'facebook_share_count': 18006,\n",
       "   u'foci': [],\n",
       "   u'full_text_rss': 0,\n",
       "   u'guid': u'https://www.splcenter.org/fighting-hate/extremist-files/ideology/alternative-right',\n",
       "   u'inlink_count': 56,\n",
       "   u'language': u'en',\n",
       "   u'media_id': 24811,\n",
       "   u'media_inlink_count': 37,\n",
       "   u'media_name': u'SPLCenter',\n",
       "   u'normalized_tweet_count': None,\n",
       "   u'outlink_count': 0,\n",
       "   u'publish_date': u'undateable',\n",
       "   u'simple_tweet_count': None,\n",
       "   u'snapshots_id': 1576,\n",
       "   u'stories_id': 506324187,\n",
       "   u'timespans_id': 67515,\n",
       "   u'title': u'Alternative Right',\n",
       "   u'url': u'https://www.splcenter.org/fighting-hate/extremist-files/ideology/alternative-right'},\n",
       "  {u'bitly_click_count': 1,\n",
       "   u'collect_date': u'2015-10-23 19:00:11.686486',\n",
       "   u'date_is_reliable': 0,\n",
       "   u'facebook_share_count': 1343,\n",
       "   u'foci': [{u'focal_set_name': u'Retweet Partisanship Halves',\n",
       "     u'foci_id': 580,\n",
       "     u'name': u'Left Half',\n",
       "     u'stories_id': 390330593},\n",
       "    {u'focal_set_name': u'Retweet Partisanship Quintiles',\n",
       "     u'foci_id': 578,\n",
       "     u'name': u'Left',\n",
       "     u'stories_id': 390330593},\n",
       "    {u'focal_set_name': u'Mass Market Media',\n",
       "     u'foci_id': 572,\n",
       "     u'name': u'Mass Market Media',\n",
       "     u'stories_id': 390330593}],\n",
       "   u'full_text_rss': 0,\n",
       "   u'guid': u'http://www.msnbc.com/node/709491',\n",
       "   u'inlink_count': 42,\n",
       "   u'language': u'en',\n",
       "   u'media_id': 1149,\n",
       "   u'media_inlink_count': 35,\n",
       "   u'media_name': u'MSNBC',\n",
       "   u'normalized_tweet_count': None,\n",
       "   u'outlink_count': 0,\n",
       "   u'publish_date': u'2015-10-23 18:34:00',\n",
       "   u'simple_tweet_count': None,\n",
       "   u'snapshots_id': 1576,\n",
       "   u'stories_id': 390330593,\n",
       "   u'timespans_id': 67515,\n",
       "   u'title': u'Rachel Maddow interviews Hillary Clinton',\n",
       "   u'url': u'http://www.msnbc.com/rachel-maddow-show/transcript-rachel-maddow-interviews-hillary-clinton'},\n",
       "  {u'bitly_click_count': 1,\n",
       "   u'collect_date': u'2016-04-06 19:00:43',\n",
       "   u'date_is_reliable': 1,\n",
       "   u'facebook_share_count': 3089,\n",
       "   u'foci': [{u'focal_set_name': u'Retweet Partisanship Halves',\n",
       "     u'foci_id': 580,\n",
       "     u'name': u'Left Half',\n",
       "     u'stories_id': 442765808},\n",
       "    {u'focal_set_name': u'Retweet Partisanship Quintiles',\n",
       "     u'foci_id': 576,\n",
       "     u'name': u'Center Left',\n",
       "     u'stories_id': 442765808},\n",
       "    {u'focal_set_name': u'Mass Market Media',\n",
       "     u'foci_id': 572,\n",
       "     u'name': u'Mass Market Media',\n",
       "     u'stories_id': 442765808}],\n",
       "   u'full_text_rss': 0,\n",
       "   u'guid': u'http://www.buzzfeed.com/rosiegray/how-2015-fueled-the-rise-of-the-freewheeling-white-nationali#.nyYGeaVXy',\n",
       "   u'inlink_count': 41,\n",
       "   u'language': u'en',\n",
       "   u'media_id': 6218,\n",
       "   u'media_inlink_count': 30,\n",
       "   u'media_name': u'Buzzfeed',\n",
       "   u'normalized_tweet_count': None,\n",
       "   u'outlink_count': 5,\n",
       "   u'publish_date': u'undateable',\n",
       "   u'simple_tweet_count': None,\n",
       "   u'snapshots_id': 1576,\n",
       "   u'stories_id': 442765808,\n",
       "   u'timespans_id': 67515,\n",
       "   u'title': u'How 2015 Fueled The Rise Of The Freewheeling, White Nationalist Alt Right Movement',\n",
       "   u'url': u'http://www.buzzfeed.com/rosiegray/how-2015-fueled-the-rise-of-the-freewheeling-white-nationali#.nyYGeaVXy'},\n",
       "  {u'bitly_click_count': 0,\n",
       "   u'collect_date': u'2017-03-01 19:07:46',\n",
       "   u'date_is_reliable': 1,\n",
       "   u'facebook_share_count': 1302,\n",
       "   u'foci': [{u'focal_set_name': u'Retweet Partisanship Halves',\n",
       "     u'foci_id': 581,\n",
       "     u'name': u'Right Half',\n",
       "     u'stories_id': 587927285},\n",
       "    {u'focal_set_name': u'Retweet Partisanship Quintiles',\n",
       "     u'foci_id': 579,\n",
       "     u'name': u'Right',\n",
       "     u'stories_id': 587927285},\n",
       "    {u'focal_set_name': u'Clinton Foundation',\n",
       "     u'foci_id': 574,\n",
       "     u'name': u'russian oil',\n",
       "     u'stories_id': 587927285},\n",
       "    {u'focal_set_name': u'Clinton Foundation',\n",
       "     u'foci_id': 573,\n",
       "     u'name': u'Clinton Foundation',\n",
       "     u'stories_id': 587927285}],\n",
       "   u'full_text_rss': 0,\n",
       "   u'guid': u'http://ontheissues.org/hillary_clinton.htm',\n",
       "   u'inlink_count': 43,\n",
       "   u'language': u'en',\n",
       "   u'media_id': 35448,\n",
       "   u'media_inlink_count': 29,\n",
       "   u'media_name': u'ontheissues.org',\n",
       "   u'normalized_tweet_count': None,\n",
       "   u'outlink_count': 11,\n",
       "   u'publish_date': u'undateable',\n",
       "   u'simple_tweet_count': None,\n",
       "   u'snapshots_id': 1576,\n",
       "   u'stories_id': 587927285,\n",
       "   u'timespans_id': 67515,\n",
       "   u'title': u'Hillary Clinton on the Issues',\n",
       "   u'url': u'http://ontheissues.org/hillary_clinton.htm'},\n",
       "  {u'bitly_click_count': 0,\n",
       "   u'collect_date': u'2016-08-06 06:58:06',\n",
       "   u'date_is_reliable': 0,\n",
       "   u'facebook_share_count': 24032,\n",
       "   u'foci': [{u'focal_set_name': u'Retweet Partisanship Halves',\n",
       "     u'foci_id': 580,\n",
       "     u'name': u'Left Half',\n",
       "     u'stories_id': 497893564},\n",
       "    {u'focal_set_name': u'Retweet Partisanship Quintiles',\n",
       "     u'foci_id': 576,\n",
       "     u'name': u'Center Left',\n",
       "     u'stories_id': 497893564},\n",
       "    {u'focal_set_name': u'Mass Market Media',\n",
       "     u'foci_id': 572,\n",
       "     u'name': u'Mass Market Media',\n",
       "     u'stories_id': 497893564}],\n",
       "   u'full_text_rss': 0,\n",
       "   u'guid': u'http://www.nytimes.com/2016/03/03/us/politics/anti-donald-trump-republicans-call-for-a-third-party-option.html?ref=politics&_r=1',\n",
       "   u'inlink_count': 39,\n",
       "   u'language': u'en',\n",
       "   u'media_id': 1,\n",
       "   u'media_inlink_count': 28,\n",
       "   u'media_name': u'New York Times',\n",
       "   u'normalized_tweet_count': None,\n",
       "   u'outlink_count': 0,\n",
       "   u'publish_date': u'2015-09-23 21:22:13',\n",
       "   u'simple_tweet_count': None,\n",
       "   u'snapshots_id': 1576,\n",
       "   u'stories_id': 497893564,\n",
       "   u'timespans_id': 67515,\n",
       "   u'title': u'Anti-Trump Republicans Call for a Third-Party Option',\n",
       "   u'url': u'http://www.nytimes.com/2016/03/03/us/politics/anti-donald-trump-republicans-call-for-a-third-party-option.html?ref=politics&_r=1'},\n",
       "  {u'bitly_click_count': 0,\n",
       "   u'collect_date': u'2016-04-08 14:08:49.608344',\n",
       "   u'date_is_reliable': 0,\n",
       "   u'facebook_share_count': 50244,\n",
       "   u'foci': [],\n",
       "   u'full_text_rss': 0,\n",
       "   u'guid': u'http://www.thedailybeast.com/articles/2016/04/08/the-secret-movement-to-draft-general-james-mattis-for-president.html',\n",
       "   u'inlink_count': 37,\n",
       "   u'language': u'en',\n",
       "   u'media_id': 25771,\n",
       "   u'media_inlink_count': 27,\n",
       "   u'media_name': u'hoover.org',\n",
       "   u'normalized_tweet_count': None,\n",
       "   u'outlink_count': 0,\n",
       "   u'publish_date': u'2016-04-08 14:08:49',\n",
       "   u'simple_tweet_count': None,\n",
       "   u'snapshots_id': 1576,\n",
       "   u'stories_id': 443476561,\n",
       "   u'timespans_id': 67515,\n",
       "   u'title': u'The Secret Movement To Draft General James Mattis For President',\n",
       "   u'url': u'http://www.thedailybeast.com/articles/2016/04/08/the-secret-movement-to-draft-general-james-mattis-for-president.html'}]}"
      ]
     },
     "execution_count": 55,
     "metadata": {},
     "output_type": "execute_result"
    }
   ],
   "source": [
    "mc.topicStoryList(1404, q=\"alternative AND right\", limit=10)"
   ]
  },
  {
   "cell_type": "code",
   "execution_count": null,
   "metadata": {
    "collapsed": true
   },
   "outputs": [],
   "source": []
  }
 ],
 "metadata": {
  "kernelspec": {
   "display_name": "Python 2",
   "language": "python",
   "name": "python2"
  },
  "language_info": {
   "codemirror_mode": {
    "name": "ipython",
    "version": 2
   },
   "file_extension": ".py",
   "mimetype": "text/x-python",
   "name": "python",
   "nbconvert_exporter": "python",
   "pygments_lexer": "ipython2",
   "version": "2.7.11"
  }
 },
 "nbformat": 4,
 "nbformat_minor": 0
}
